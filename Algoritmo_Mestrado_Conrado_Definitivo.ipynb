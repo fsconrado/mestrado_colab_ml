{
  "nbformat": 4,
  "nbformat_minor": 0,
  "metadata": {
    "colab": {
      "name": "Algoritmo Mestrado Conrado Definitivo.ipynb",
      "provenance": [],
      "collapsed_sections": [
        "7weV3Bth3o_-",
        "H3BuxkaKzWCx",
        "FCedH6fgrYrl",
        "GxNIeiRc38K-",
        "XxgyPNGX3ylI",
        "ZAjK5orIOw9k"
      ],
      "mount_file_id": "1I0VwQiPF9CHrgev-huPEnD1PFq8ZiaDA",
      "authorship_tag": "ABX9TyP2TRc+pjl05UQ6bs5zVsZ+",
      "include_colab_link": true
    },
    "kernelspec": {
      "name": "python3",
      "display_name": "Python 3"
    },
    "language_info": {
      "name": "python"
    }
  },
  "cells": [
    {
      "cell_type": "markdown",
      "metadata": {
        "id": "view-in-github",
        "colab_type": "text"
      },
      "source": [
        "<a href=\"https://colab.research.google.com/github/fsconrado/mestrado_colab_ml/blob/main/Algoritmo_Mestrado_Conrado_Definitivo.ipynb\" target=\"_parent\"><img src=\"https://colab.research.google.com/assets/colab-badge.svg\" alt=\"Open In Colab\"/></a>"
      ]
    },
    {
      "cell_type": "markdown",
      "source": [
        "# **Visão dos Dados - Fabiano Conrado"
      ],
      "metadata": {
        "id": "7weV3Bth3o_-"
      }
    },
    {
      "cell_type": "code",
      "execution_count": 1443,
      "metadata": {
        "id": "S823WBu63iBQ"
      },
      "outputs": [],
      "source": [
        "#1. IMPORTAR O DATASET (COLUNAS IMPORTANTES: AGE, SEX, LYVE1, REG1B, TFF1 ==> ALVO PREVER A COLUNA STAGE.3)\n",
        "#!pip install plotly --upgrade\n",
        "#Baixar os dados e jogar na variável DADOS\n",
        "import pandas as pd\n",
        "\n",
        "dados = pd.read_csv(\"dataMODIFICADOv10F.csv\", sep=\",\")\n",
        "dados = dados.fillna(1, inplace= False)\n",
        "# 16 colunas\n"
      ]
    },
    {
      "cell_type": "code",
      "source": [
        "dados"
      ],
      "metadata": {
        "colab": {
          "base_uri": "https://localhost:8080/",
          "height": 488
        },
        "id": "MLSQ8HYU4K8i",
        "outputId": "003684f7-0ce9-4b5b-a277-8c6cf68c1a4b"
      },
      "execution_count": 1444,
      "outputs": [
        {
          "output_type": "execute_result",
          "data": {
            "text/plain": [
              "    sample_id patient_cohort sample_origin  diagnosis stage sex  age  \\\n",
              "0        S497        Cohort1           ESP          3     I   F   81   \n",
              "1        S456        Cohort1           LIV          3    IA   M   57   \n",
              "2        S520        Cohort1          BPTB          3    IA   M   55   \n",
              "3        S573        Cohort2          BPTB          3    IA   M   58   \n",
              "4        S401        Cohort1           LIV          3    IB   M   73   \n",
              "..        ...            ...           ...        ...   ...  ..  ...   \n",
              "194      S549        Cohort2          BPTB          3    IV   M   68   \n",
              "195      S558        Cohort2          BPTB          3    IV   F   71   \n",
              "196      S560        Cohort2          BPTB          3    IV   M   63   \n",
              "197      S583        Cohort2          BPTB          3    IV   F   75   \n",
              "198      S590        Cohort1          BPTB          3    IV   M   74   \n",
              "\n",
              "         LYVE1       REG1B         TFF1  creatinine  plasma_CA19_9      REG1A  \\\n",
              "0    12.017150  431.422530   874.099700     0.56550            1.0      1.000   \n",
              "1     2.628425   40.620818   529.984000     1.73043           10.0    155.270   \n",
              "2     2.830541   33.406150   323.175770     0.47502           11.0    210.185   \n",
              "3     0.632433  188.253000   138.630000     0.44109           11.0      1.000   \n",
              "4    12.245820  196.921830  1529.183124     0.70122         3236.0    432.917   \n",
              "..         ...         ...          ...         ...            ...        ...   \n",
              "194   7.058209  156.241000   525.178000     0.52026            1.0      1.000   \n",
              "195   8.341207   16.915000   245.947000     0.85956            1.0      1.000   \n",
              "196   7.674707  289.701000   537.286000     1.36851            1.0      1.000   \n",
              "197   8.206777  205.930000   722.523000     1.33458            1.0      1.000   \n",
              "198   8.200958  411.938275  2021.321078     1.50423         1488.0  13200.000   \n",
              "\n",
              "    stage2  \n",
              "0        I  \n",
              "1        I  \n",
              "2        I  \n",
              "3        I  \n",
              "4        I  \n",
              "..     ...  \n",
              "194     IV  \n",
              "195     IV  \n",
              "196     IV  \n",
              "197     IV  \n",
              "198     IV  \n",
              "\n",
              "[199 rows x 14 columns]"
            ],
            "text/html": [
              "\n",
              "  <div id=\"df-1374f321-623a-4395-b05f-8af2f1229aa6\">\n",
              "    <div class=\"colab-df-container\">\n",
              "      <div>\n",
              "<style scoped>\n",
              "    .dataframe tbody tr th:only-of-type {\n",
              "        vertical-align: middle;\n",
              "    }\n",
              "\n",
              "    .dataframe tbody tr th {\n",
              "        vertical-align: top;\n",
              "    }\n",
              "\n",
              "    .dataframe thead th {\n",
              "        text-align: right;\n",
              "    }\n",
              "</style>\n",
              "<table border=\"1\" class=\"dataframe\">\n",
              "  <thead>\n",
              "    <tr style=\"text-align: right;\">\n",
              "      <th></th>\n",
              "      <th>sample_id</th>\n",
              "      <th>patient_cohort</th>\n",
              "      <th>sample_origin</th>\n",
              "      <th>diagnosis</th>\n",
              "      <th>stage</th>\n",
              "      <th>sex</th>\n",
              "      <th>age</th>\n",
              "      <th>LYVE1</th>\n",
              "      <th>REG1B</th>\n",
              "      <th>TFF1</th>\n",
              "      <th>creatinine</th>\n",
              "      <th>plasma_CA19_9</th>\n",
              "      <th>REG1A</th>\n",
              "      <th>stage2</th>\n",
              "    </tr>\n",
              "  </thead>\n",
              "  <tbody>\n",
              "    <tr>\n",
              "      <th>0</th>\n",
              "      <td>S497</td>\n",
              "      <td>Cohort1</td>\n",
              "      <td>ESP</td>\n",
              "      <td>3</td>\n",
              "      <td>I</td>\n",
              "      <td>F</td>\n",
              "      <td>81</td>\n",
              "      <td>12.017150</td>\n",
              "      <td>431.422530</td>\n",
              "      <td>874.099700</td>\n",
              "      <td>0.56550</td>\n",
              "      <td>1.0</td>\n",
              "      <td>1.000</td>\n",
              "      <td>I</td>\n",
              "    </tr>\n",
              "    <tr>\n",
              "      <th>1</th>\n",
              "      <td>S456</td>\n",
              "      <td>Cohort1</td>\n",
              "      <td>LIV</td>\n",
              "      <td>3</td>\n",
              "      <td>IA</td>\n",
              "      <td>M</td>\n",
              "      <td>57</td>\n",
              "      <td>2.628425</td>\n",
              "      <td>40.620818</td>\n",
              "      <td>529.984000</td>\n",
              "      <td>1.73043</td>\n",
              "      <td>10.0</td>\n",
              "      <td>155.270</td>\n",
              "      <td>I</td>\n",
              "    </tr>\n",
              "    <tr>\n",
              "      <th>2</th>\n",
              "      <td>S520</td>\n",
              "      <td>Cohort1</td>\n",
              "      <td>BPTB</td>\n",
              "      <td>3</td>\n",
              "      <td>IA</td>\n",
              "      <td>M</td>\n",
              "      <td>55</td>\n",
              "      <td>2.830541</td>\n",
              "      <td>33.406150</td>\n",
              "      <td>323.175770</td>\n",
              "      <td>0.47502</td>\n",
              "      <td>11.0</td>\n",
              "      <td>210.185</td>\n",
              "      <td>I</td>\n",
              "    </tr>\n",
              "    <tr>\n",
              "      <th>3</th>\n",
              "      <td>S573</td>\n",
              "      <td>Cohort2</td>\n",
              "      <td>BPTB</td>\n",
              "      <td>3</td>\n",
              "      <td>IA</td>\n",
              "      <td>M</td>\n",
              "      <td>58</td>\n",
              "      <td>0.632433</td>\n",
              "      <td>188.253000</td>\n",
              "      <td>138.630000</td>\n",
              "      <td>0.44109</td>\n",
              "      <td>11.0</td>\n",
              "      <td>1.000</td>\n",
              "      <td>I</td>\n",
              "    </tr>\n",
              "    <tr>\n",
              "      <th>4</th>\n",
              "      <td>S401</td>\n",
              "      <td>Cohort1</td>\n",
              "      <td>LIV</td>\n",
              "      <td>3</td>\n",
              "      <td>IB</td>\n",
              "      <td>M</td>\n",
              "      <td>73</td>\n",
              "      <td>12.245820</td>\n",
              "      <td>196.921830</td>\n",
              "      <td>1529.183124</td>\n",
              "      <td>0.70122</td>\n",
              "      <td>3236.0</td>\n",
              "      <td>432.917</td>\n",
              "      <td>I</td>\n",
              "    </tr>\n",
              "    <tr>\n",
              "      <th>...</th>\n",
              "      <td>...</td>\n",
              "      <td>...</td>\n",
              "      <td>...</td>\n",
              "      <td>...</td>\n",
              "      <td>...</td>\n",
              "      <td>...</td>\n",
              "      <td>...</td>\n",
              "      <td>...</td>\n",
              "      <td>...</td>\n",
              "      <td>...</td>\n",
              "      <td>...</td>\n",
              "      <td>...</td>\n",
              "      <td>...</td>\n",
              "      <td>...</td>\n",
              "    </tr>\n",
              "    <tr>\n",
              "      <th>194</th>\n",
              "      <td>S549</td>\n",
              "      <td>Cohort2</td>\n",
              "      <td>BPTB</td>\n",
              "      <td>3</td>\n",
              "      <td>IV</td>\n",
              "      <td>M</td>\n",
              "      <td>68</td>\n",
              "      <td>7.058209</td>\n",
              "      <td>156.241000</td>\n",
              "      <td>525.178000</td>\n",
              "      <td>0.52026</td>\n",
              "      <td>1.0</td>\n",
              "      <td>1.000</td>\n",
              "      <td>IV</td>\n",
              "    </tr>\n",
              "    <tr>\n",
              "      <th>195</th>\n",
              "      <td>S558</td>\n",
              "      <td>Cohort2</td>\n",
              "      <td>BPTB</td>\n",
              "      <td>3</td>\n",
              "      <td>IV</td>\n",
              "      <td>F</td>\n",
              "      <td>71</td>\n",
              "      <td>8.341207</td>\n",
              "      <td>16.915000</td>\n",
              "      <td>245.947000</td>\n",
              "      <td>0.85956</td>\n",
              "      <td>1.0</td>\n",
              "      <td>1.000</td>\n",
              "      <td>IV</td>\n",
              "    </tr>\n",
              "    <tr>\n",
              "      <th>196</th>\n",
              "      <td>S560</td>\n",
              "      <td>Cohort2</td>\n",
              "      <td>BPTB</td>\n",
              "      <td>3</td>\n",
              "      <td>IV</td>\n",
              "      <td>M</td>\n",
              "      <td>63</td>\n",
              "      <td>7.674707</td>\n",
              "      <td>289.701000</td>\n",
              "      <td>537.286000</td>\n",
              "      <td>1.36851</td>\n",
              "      <td>1.0</td>\n",
              "      <td>1.000</td>\n",
              "      <td>IV</td>\n",
              "    </tr>\n",
              "    <tr>\n",
              "      <th>197</th>\n",
              "      <td>S583</td>\n",
              "      <td>Cohort2</td>\n",
              "      <td>BPTB</td>\n",
              "      <td>3</td>\n",
              "      <td>IV</td>\n",
              "      <td>F</td>\n",
              "      <td>75</td>\n",
              "      <td>8.206777</td>\n",
              "      <td>205.930000</td>\n",
              "      <td>722.523000</td>\n",
              "      <td>1.33458</td>\n",
              "      <td>1.0</td>\n",
              "      <td>1.000</td>\n",
              "      <td>IV</td>\n",
              "    </tr>\n",
              "    <tr>\n",
              "      <th>198</th>\n",
              "      <td>S590</td>\n",
              "      <td>Cohort1</td>\n",
              "      <td>BPTB</td>\n",
              "      <td>3</td>\n",
              "      <td>IV</td>\n",
              "      <td>M</td>\n",
              "      <td>74</td>\n",
              "      <td>8.200958</td>\n",
              "      <td>411.938275</td>\n",
              "      <td>2021.321078</td>\n",
              "      <td>1.50423</td>\n",
              "      <td>1488.0</td>\n",
              "      <td>13200.000</td>\n",
              "      <td>IV</td>\n",
              "    </tr>\n",
              "  </tbody>\n",
              "</table>\n",
              "<p>199 rows × 14 columns</p>\n",
              "</div>\n",
              "      <button class=\"colab-df-convert\" onclick=\"convertToInteractive('df-1374f321-623a-4395-b05f-8af2f1229aa6')\"\n",
              "              title=\"Convert this dataframe to an interactive table.\"\n",
              "              style=\"display:none;\">\n",
              "        \n",
              "  <svg xmlns=\"http://www.w3.org/2000/svg\" height=\"24px\"viewBox=\"0 0 24 24\"\n",
              "       width=\"24px\">\n",
              "    <path d=\"M0 0h24v24H0V0z\" fill=\"none\"/>\n",
              "    <path d=\"M18.56 5.44l.94 2.06.94-2.06 2.06-.94-2.06-.94-.94-2.06-.94 2.06-2.06.94zm-11 1L8.5 8.5l.94-2.06 2.06-.94-2.06-.94L8.5 2.5l-.94 2.06-2.06.94zm10 10l.94 2.06.94-2.06 2.06-.94-2.06-.94-.94-2.06-.94 2.06-2.06.94z\"/><path d=\"M17.41 7.96l-1.37-1.37c-.4-.4-.92-.59-1.43-.59-.52 0-1.04.2-1.43.59L10.3 9.45l-7.72 7.72c-.78.78-.78 2.05 0 2.83L4 21.41c.39.39.9.59 1.41.59.51 0 1.02-.2 1.41-.59l7.78-7.78 2.81-2.81c.8-.78.8-2.07 0-2.86zM5.41 20L4 18.59l7.72-7.72 1.47 1.35L5.41 20z\"/>\n",
              "  </svg>\n",
              "      </button>\n",
              "      \n",
              "  <style>\n",
              "    .colab-df-container {\n",
              "      display:flex;\n",
              "      flex-wrap:wrap;\n",
              "      gap: 12px;\n",
              "    }\n",
              "\n",
              "    .colab-df-convert {\n",
              "      background-color: #E8F0FE;\n",
              "      border: none;\n",
              "      border-radius: 50%;\n",
              "      cursor: pointer;\n",
              "      display: none;\n",
              "      fill: #1967D2;\n",
              "      height: 32px;\n",
              "      padding: 0 0 0 0;\n",
              "      width: 32px;\n",
              "    }\n",
              "\n",
              "    .colab-df-convert:hover {\n",
              "      background-color: #E2EBFA;\n",
              "      box-shadow: 0px 1px 2px rgba(60, 64, 67, 0.3), 0px 1px 3px 1px rgba(60, 64, 67, 0.15);\n",
              "      fill: #174EA6;\n",
              "    }\n",
              "\n",
              "    [theme=dark] .colab-df-convert {\n",
              "      background-color: #3B4455;\n",
              "      fill: #D2E3FC;\n",
              "    }\n",
              "\n",
              "    [theme=dark] .colab-df-convert:hover {\n",
              "      background-color: #434B5C;\n",
              "      box-shadow: 0px 1px 3px 1px rgba(0, 0, 0, 0.15);\n",
              "      filter: drop-shadow(0px 1px 2px rgba(0, 0, 0, 0.3));\n",
              "      fill: #FFFFFF;\n",
              "    }\n",
              "  </style>\n",
              "\n",
              "      <script>\n",
              "        const buttonEl =\n",
              "          document.querySelector('#df-1374f321-623a-4395-b05f-8af2f1229aa6 button.colab-df-convert');\n",
              "        buttonEl.style.display =\n",
              "          google.colab.kernel.accessAllowed ? 'block' : 'none';\n",
              "\n",
              "        async function convertToInteractive(key) {\n",
              "          const element = document.querySelector('#df-1374f321-623a-4395-b05f-8af2f1229aa6');\n",
              "          const dataTable =\n",
              "            await google.colab.kernel.invokeFunction('convertToInteractive',\n",
              "                                                     [key], {});\n",
              "          if (!dataTable) return;\n",
              "\n",
              "          const docLinkHtml = 'Like what you see? Visit the ' +\n",
              "            '<a target=\"_blank\" href=https://colab.research.google.com/notebooks/data_table.ipynb>data table notebook</a>'\n",
              "            + ' to learn more about interactive tables.';\n",
              "          element.innerHTML = '';\n",
              "          dataTable['output_type'] = 'display_data';\n",
              "          await google.colab.output.renderOutput(dataTable, element);\n",
              "          const docLink = document.createElement('div');\n",
              "          docLink.innerHTML = docLinkHtml;\n",
              "          element.appendChild(docLink);\n",
              "        }\n",
              "      </script>\n",
              "    </div>\n",
              "  </div>\n",
              "  "
            ]
          },
          "metadata": {},
          "execution_count": 1444
        }
      ]
    },
    {
      "cell_type": "code",
      "source": [
        "#Avaliar o número de amostras para cada classe(estadiamento)\n",
        "import numpy as np\n",
        "np.unique(dados['stage2'], return_counts = True)"
      ],
      "metadata": {
        "colab": {
          "base_uri": "https://localhost:8080/"
        },
        "id": "_rDad23J4nVK",
        "outputId": "e1215796-3d62-42fb-dd31-4eab65a0fc9e"
      },
      "execution_count": 1445,
      "outputs": [
        {
          "output_type": "execute_result",
          "data": {
            "text/plain": [
              "(array(['I', 'II', 'III', 'IV'], dtype=object), array([16, 86, 76, 21]))"
            ]
          },
          "metadata": {},
          "execution_count": 1445
        }
      ]
    },
    {
      "cell_type": "code",
      "source": [
        "#Gerar um gráfico para avaliar visualmente o número de amostras para cada classe, objetivo é avaliar se os dados estão balanceados.\n",
        "import seaborn as sns\n",
        "sns.countplot(x = dados['stage2']);"
      ],
      "metadata": {
        "colab": {
          "base_uri": "https://localhost:8080/",
          "height": 361
        },
        "id": "mPaQPJPb7p1U",
        "outputId": "1fd77a8c-a5dd-4f22-ee6e-d691939b7c83"
      },
      "execution_count": 1446,
      "outputs": [
        {
          "output_type": "display_data",
          "data": {
            "text/plain": [
              "<Figure size 576x396 with 1 Axes>"
            ],
            "image/png": "[encoded data removed]"
          },
          "metadata": {}
        }
      ]
    },
    {
      "cell_type": "markdown",
      "source": [
        "# **KnnClassifier**{*Unbalanced*} => 0.425"
      ],
      "metadata": {
        "id": "H3BuxkaKzWCx"
      }
    },
    {
      "cell_type": "code",
      "source": [
        "#PREPARAR OS DADOS ==> Importar e tratar os dados\n",
        "import pandas as pd\n",
        "\n",
        "# Importando o Arquivo\n",
        "dados = pd.read_csv(\"dataMODIFICADOv10F.csv\", sep=\",\")\n",
        "\n",
        "#Transformando os nulos para 0\n",
        "dados = dados.fillna(1, inplace= False) \n",
        "\n",
        "#Separando as variaveis de interesse | sex\tage\tLYVE1\tREG1B\tTFF1\tcreatinine\tplasma_CA19_9\tREG1A\t\n",
        "X_dados = dados.iloc[:,5:13].values\n",
        "X_dados \n",
        "\n",
        "#Separando a classe alvo | stage2\n",
        "y_dados = dados.iloc[:,13].values\n",
        "y_dados\n",
        "\n",
        "# Tratando as colunas que São rotulos | sex\n",
        "from sklearn.preprocessing import LabelEncoder\n",
        "\n",
        "label_encoder_sex = LabelEncoder()\n",
        "X_dados[:,0] = label_encoder_sex.fit_transform(X_dados[:,0])\n",
        "X_dados\n",
        "\n",
        "#Onehot\n",
        "from sklearn.preprocessing import OneHotEncoder\n",
        "from sklearn.compose import ColumnTransformer\n",
        "\n",
        "onehotencorder = ColumnTransformer(transformers=[(\"OneHot\", OneHotEncoder(), [0])],remainder='passthrough')\n",
        "X_dados = onehotencorder.fit_transform(X_dados)\n",
        "X_dados\n",
        "\n",
        "#ESCALONAMENTO DE ATRIBUTOS\n",
        "from sklearn.preprocessing import StandardScaler\n",
        "scaler_dados = StandardScaler()\n",
        "X_dados = scaler_dados.fit_transform(X_dados)\n",
        "\n",
        "\n",
        "#Separação dos dados SEM o balanceamento\n",
        "from sklearn.model_selection import train_test_split\n",
        "\n",
        "X_dados_train , X_dados_test, y_dados_train, y_dados_test = train_test_split(X_dados, y_dados, test_size=0.2, random_state=0)\n",
        "X_dados_train.shape, X_dados_test.shape\n"
      ],
      "metadata": {
        "colab": {
          "base_uri": "https://localhost:8080/"
        },
        "id": "Vvp9U02RnAoZ",
        "outputId": "c51a5c4e-4e07-4e1f-89d6-73a58a5b4c40"
      },
      "execution_count": 1568,
      "outputs": [
        {
          "output_type": "execute_result",
          "data": {
            "text/plain": [
              "((159, 9), (40, 9))"
            ]
          },
          "metadata": {},
          "execution_count": 1568
        }
      ]
    },
    {
      "cell_type": "code",
      "source": [
        "#KNN CLASSIFICADOR\n",
        "from sklearn.neighbors import KNeighborsClassifier\n",
        "from sklearn.metrics import classification_report, confusion_matrix,plot_confusion_matrix\n",
        "from sklearn.preprocessing import StandardScaler"
      ],
      "metadata": {
        "id": "ZuMKk6VIzYyS"
      },
      "execution_count": 1569,
      "outputs": []
    },
    {
      "cell_type": "code",
      "source": [
        "knn_modelc = KNeighborsClassifier(n_neighbors=5, metric='minkowski', p = 3)\n",
        "knn_modelc.fit(X_dados_train, y_dados_train)"
      ],
      "metadata": {
        "colab": {
          "base_uri": "https://localhost:8080/"
        },
        "id": "SSg6zZ8h11mN",
        "outputId": "3137cd1d-4aa9-4365-eb3f-f18508581439"
      },
      "execution_count": 1570,
      "outputs": [
        {
          "output_type": "execute_result",
          "data": {
            "text/plain": [
              "KNeighborsClassifier(p=3)"
            ]
          },
          "metadata": {},
          "execution_count": 1570
        }
      ]
    },
    {
      "cell_type": "code",
      "source": [
        "previsoes = knn_modelc.predict(X_dados_test)\n",
        "previsoes"
      ],
      "metadata": {
        "colab": {
          "base_uri": "https://localhost:8080/"
        },
        "id": "GOeek73n2Bvn",
        "outputId": "6ff7a772-9d05-43f4-db95-c869ec1f8636"
      },
      "execution_count": 1571,
      "outputs": [
        {
          "output_type": "execute_result",
          "data": {
            "text/plain": [
              "array(['II', 'II', 'II', 'II', 'II', 'IV', 'II', 'III', 'II', 'II', 'II',\n",
              "       'II', 'II', 'II', 'II', 'II', 'II', 'III', 'II', 'III', 'III',\n",
              "       'II', 'II', 'III', 'II', 'I', 'II', 'III', 'I', 'III', 'II', 'II',\n",
              "       'II', 'II', 'III', 'II', 'II', 'III', 'III', 'III'], dtype=object)"
            ]
          },
          "metadata": {},
          "execution_count": 1571
        }
      ]
    },
    {
      "cell_type": "code",
      "source": [
        "y_dados_test"
      ],
      "metadata": {
        "colab": {
          "base_uri": "https://localhost:8080/"
        },
        "id": "xqMsiFQe2HUp",
        "outputId": "8ba0b619-2009-4811-a8df-c2772a1b96a5"
      },
      "execution_count": 1572,
      "outputs": [
        {
          "output_type": "execute_result",
          "data": {
            "text/plain": [
              "array(['II', 'III', 'III', 'II', 'III', 'IV', 'I', 'III', 'I', 'III',\n",
              "       'II', 'III', 'III', 'III', 'II', 'I', 'II', 'III', 'II', 'II',\n",
              "       'III', 'III', 'II', 'III', 'II', 'III', 'IV', 'IV', 'II', 'II',\n",
              "       'II', 'II', 'II', 'III', 'II', 'IV', 'III', 'I', 'III', 'IV'],\n",
              "      dtype=object)"
            ]
          },
          "metadata": {},
          "execution_count": 1572
        }
      ]
    },
    {
      "cell_type": "code",
      "source": [
        "from sklearn.metrics import accuracy_score, classification_report\n",
        "accuracy_score(y_dados_test, previsoes) # padronização"
      ],
      "metadata": {
        "colab": {
          "base_uri": "https://localhost:8080/"
        },
        "id": "quZRHK2u2bLa",
        "outputId": "abb822d0-cd53-49c5-e3ae-03e2e979c0b2"
      },
      "execution_count": 1573,
      "outputs": [
        {
          "output_type": "execute_result",
          "data": {
            "text/plain": [
              "0.425"
            ]
          },
          "metadata": {},
          "execution_count": 1573
        }
      ]
    },
    {
      "cell_type": "code",
      "source": [
        "from yellowbrick.classifier import ConfusionMatrix\n",
        "cm = ConfusionMatrix(knn_modelc)\n",
        "cm.fit(X_dados_train, y_dados_train)\n",
        "cm.score(X_dados_test, y_dados_test)"
      ],
      "metadata": {
        "colab": {
          "base_uri": "https://localhost:8080/",
          "height": 365
        },
        "id": "B_83NeoZ2hqy",
        "outputId": "d2ec5c8a-c894-4554-d3b6-b5ac0ae7f6d4"
      },
      "execution_count": 1574,
      "outputs": [
        {
          "output_type": "execute_result",
          "data": {
            "text/plain": [
              "0.425"
            ]
          },
          "metadata": {},
          "execution_count": 1574
        },
        {
          "output_type": "display_data",
          "data": {
            "text/plain": [
              "<Figure size 576x396 with 1 Axes>"
            ],
            "image/png": "[encoded data removed]"
          },
          "metadata": {}
        }
      ]
    },
    {
      "cell_type": "markdown",
      "source": [
        "# **RandomForestClassifier**{*Unbalanced*} => 0.575"
      ],
      "metadata": {
        "id": "FCedH6fgrYrl"
      }
    },
    {
      "cell_type": "code",
      "source": [
        "#PREPARAR OS DADOS ==> Importar e tratar os dados\n",
        "import pandas as pd\n",
        "\n",
        "# Importando o Arquivo\n",
        "dados = pd.read_csv(\"dataMODIFICADOv10F.csv\", sep=\",\")\n",
        "\n",
        "#Transformando os nulos para 0\n",
        "dados = dados.fillna(1, inplace= False) \n",
        "\n",
        "#Separando as variaveis de interesse | sex\tage\tLYVE1\tREG1B\tTFF1\tcreatinine\tplasma_CA19_9\tREG1A\t\n",
        "X_dados = dados.iloc[:,5:13].values\n",
        "X_dados \n",
        "\n",
        "#Separando a classe alvo | stage2\n",
        "y_dados = dados.iloc[:,13].values\n",
        "y_dados\n",
        "\n",
        "# Tratando as colunas que São rotulos | sex\n",
        "from sklearn.preprocessing import LabelEncoder\n",
        "\n",
        "label_encoder_sex = LabelEncoder()\n",
        "X_dados[:,0] = label_encoder_sex.fit_transform(X_dados[:,0])\n",
        "X_dados\n",
        "\n",
        "#Onehot\n",
        "from sklearn.preprocessing import OneHotEncoder\n",
        "from sklearn.compose import ColumnTransformer\n",
        "\n",
        "onehotencorder = ColumnTransformer(transformers=[(\"OneHot\", OneHotEncoder(), [0])],remainder='passthrough')\n",
        "X_dados = onehotencorder.fit_transform(X_dados)\n",
        "X_dados\n",
        "\n",
        "#ESCALONAMENTO DE ATRIBUTOS\n",
        "from sklearn.preprocessing import StandardScaler\n",
        "scaler_dados = StandardScaler()\n",
        "X_dados = scaler_dados.fit_transform(X_dados)\n",
        "\n",
        "\n",
        "#Separação dos dados SEM o balanceamento\n",
        "from sklearn.model_selection import train_test_split\n",
        "\n",
        "X_dados_train , X_dados_test, y_dados_train, y_dados_test = train_test_split(X_dados, y_dados, test_size=0.2, random_state=0)\n",
        "X_dados_train.shape, X_dados_test.shape"
      ],
      "metadata": {
        "colab": {
          "base_uri": "https://localhost:8080/"
        },
        "id": "3HHihyrfzx_2",
        "outputId": "0e4e66e9-473d-4a39-debb-7363050ca2dd"
      },
      "execution_count": 1700,
      "outputs": [
        {
          "output_type": "execute_result",
          "data": {
            "text/plain": [
              "((159, 9), (40, 9))"
            ]
          },
          "metadata": {},
          "execution_count": 1700
        }
      ]
    },
    {
      "cell_type": "code",
      "source": [
        "#RANDOM FOREST CLASSIFIER\n",
        "\n",
        "from sklearn.ensemble import RandomForestClassifier\n",
        "random_forest_dados_sb = RandomForestClassifier(criterion = 'entropy', min_samples_leaf =  1, min_samples_split = 5, n_estimators = 200, random_state=0)\n",
        "random_forest_dados_sb.fit(X_dados_train, y_dados_train)"
      ],
      "metadata": {
        "colab": {
          "base_uri": "https://localhost:8080/"
        },
        "id": "wy4wTtNjpddq",
        "outputId": "5819d7c7-750f-4318-b9de-100b522cc1d8"
      },
      "execution_count": 1705,
      "outputs": [
        {
          "output_type": "execute_result",
          "data": {
            "text/plain": [
              "RandomForestClassifier(criterion='entropy', min_samples_split=5,\n",
              "                       n_estimators=200, random_state=0)"
            ]
          },
          "metadata": {},
          "execution_count": 1705
        }
      ]
    },
    {
      "cell_type": "code",
      "source": [
        "from sklearn.metrics import accuracy_score, classification_report\n",
        "previsoes = random_forest_dados_sb.predict(X_dados_test)\n",
        "accuracy_score(y_dados_test, previsoes)"
      ],
      "metadata": {
        "colab": {
          "base_uri": "https://localhost:8080/"
        },
        "id": "9aSjYsgjpfnq",
        "outputId": "05f12289-bc64-4392-cf39-cf7d7d5fd9db"
      },
      "execution_count": 1706,
      "outputs": [
        {
          "output_type": "execute_result",
          "data": {
            "text/plain": [
              "0.575"
            ]
          },
          "metadata": {},
          "execution_count": 1706
        }
      ]
    },
    {
      "cell_type": "code",
      "source": [
        "print(classification_report(y_dados_test, previsoes))"
      ],
      "metadata": {
        "colab": {
          "base_uri": "https://localhost:8080/"
        },
        "id": "84lzPMPDrsyJ",
        "outputId": "f741845f-43db-49fa-ad5d-8f6555782328"
      },
      "execution_count": 1590,
      "outputs": [
        {
          "output_type": "stream",
          "name": "stdout",
          "text": [
            "              precision    recall  f1-score   support\n",
            "\n",
            "           I       0.33      0.25      0.29         4\n",
            "          II       0.46      0.73      0.56        15\n",
            "         III       0.55      0.38      0.44        16\n",
            "          IV       1.00      0.40      0.57         5\n",
            "\n",
            "    accuracy                           0.50        40\n",
            "   macro avg       0.58      0.44      0.47        40\n",
            "weighted avg       0.55      0.50      0.49        40\n",
            "\n"
          ]
        }
      ]
    },
    {
      "cell_type": "markdown",
      "source": [
        "# **KnnClassifier**{*Balanced*}0.55"
      ],
      "metadata": {
        "id": "GxNIeiRc38K-"
      }
    },
    {
      "cell_type": "code",
      "source": [
        "#PREPARAR OS DADOS ==> Importar e tratar os dados\n",
        "import pandas as pd\n",
        "\n",
        "# Importando o Arquivo\n",
        "dados = pd.read_csv(\"dataMODIFICADOv10F.csv\", sep=\",\")\n",
        "\n",
        "#Transformando os nulos para 0\n",
        "dados = dados.fillna(1, inplace= False) \n",
        "\n",
        "#Separando as variaveis de interesse | sex\tage\tLYVE1\tREG1B\tTFF1\tcreatinine\tplasma_CA19_9\tREG1A\t\n",
        "X_dados = dados.iloc[:,5:13].values\n",
        "X_dados \n",
        "\n",
        "#Separando a classe alvo | stage2\n",
        "y_dados = dados.iloc[:,13].values\n",
        "y_dados\n",
        "\n",
        "# Tratando as colunas que São rotulos | sex\n",
        "from sklearn.preprocessing import LabelEncoder\n",
        "\n",
        "label_encoder_sex = LabelEncoder()\n",
        "X_dados[:,0] = label_encoder_sex.fit_transform(X_dados[:,0])\n",
        "X_dados\n",
        "\n",
        "# Sobreamostragem com SMOTE\n",
        "from imblearn.over_sampling import SMOTE\n",
        "import numpy as np\n",
        "\n",
        "smote = SMOTE(sampling_strategy='not majority')\n",
        "X_over, y_over = smote.fit_resample(X_dados, y_dados)\n",
        "\n",
        "#y_over.shape, X_over.shape\n",
        "np.unique(y_dados, return_counts = True), np.unique(y_over, return_counts = True)\n",
        "\n",
        "import seaborn as sns\n",
        "sns.countplot(x = y_over);\n",
        "\n",
        "from sklearn.preprocessing import OneHotEncoder\n",
        "from sklearn.compose import ColumnTransformer\n",
        "onehotencorder = ColumnTransformer(transformers=[(\"OneHot\", OneHotEncoder(), [0])],remainder='passthrough')\n",
        "X_dados = onehotencorder.fit_transform(X_over).toarray()\n",
        "\n",
        "#X_dados, X_dados.shape\n",
        "\n",
        "#ESCALONAMENTO DE ATRIBUTOS\n",
        "from sklearn.preprocessing import StandardScaler\n",
        "scaler_dados = StandardScaler()\n",
        "X_dados = scaler_dados.fit_transform(X_dados)\n",
        "X_dados\n",
        "\n",
        "#Separação dos dados BALANCEADOS\n",
        "from sklearn.model_selection import train_test_split\n",
        "\n",
        "X_dados_train_over, X_dados_test_over, y_dados_train_over, y_dados_test_over = train_test_split(X_dados, y_over, test_size=0.2, random_state=0)\n",
        "X_dados_train_over.shape, X_dados_test_over.shape\n"
      ],
      "metadata": {
        "colab": {
          "base_uri": "https://localhost:8080/",
          "height": 364
        },
        "id": "CwwGe_q00-iH",
        "outputId": "f04154b9-0772-431f-ae4c-5177aaabc9d8"
      },
      "execution_count": 1458,
      "outputs": [
        {
          "output_type": "execute_result",
          "data": {
            "text/plain": [
              "((275, 78), (69, 78))"
            ]
          },
          "metadata": {},
          "execution_count": 1458
        },
        {
          "output_type": "display_data",
          "data": {
            "text/plain": [
              "<Figure size 576x396 with 1 Axes>"
            ],
            "image/png": "[encoded data removed]"
          },
          "metadata": {}
        }
      ]
    },
    {
      "cell_type": "code",
      "source": [
        "#Knn Classifier Balanced\n",
        "\n",
        "from sklearn.neighbors import KNeighborsClassifier\n",
        "from sklearn.metrics import classification_report, confusion_matrix,plot_confusion_matrix\n",
        "from sklearn.preprocessing import StandardScaler"
      ],
      "metadata": {
        "id": "xgu8W9dd4CM-"
      },
      "execution_count": 1459,
      "outputs": []
    },
    {
      "cell_type": "code",
      "source": [
        "knn_modelc = KNeighborsClassifier(n_neighbors=5, metric='minkowski', p = 2)\n",
        "knn_modelc.fit(X_dados_train_over, y_dados_train_over)"
      ],
      "metadata": {
        "colab": {
          "base_uri": "https://localhost:8080/"
        },
        "id": "oSDZkndO4Jhk",
        "outputId": "9f0eb5ec-df9b-46b2-b8eb-057a8b845ccc"
      },
      "execution_count": 1460,
      "outputs": [
        {
          "output_type": "execute_result",
          "data": {
            "text/plain": [
              "KNeighborsClassifier()"
            ]
          },
          "metadata": {},
          "execution_count": 1460
        }
      ]
    },
    {
      "cell_type": "code",
      "source": [
        "previsoes = knn_modelc.predict(X_dados_test_over)\n",
        "previsoes"
      ],
      "metadata": {
        "colab": {
          "base_uri": "https://localhost:8080/"
        },
        "id": "xuAla1qJ4OzT",
        "outputId": "ea4cda8d-6976-49b8-f07f-393251f17d75"
      },
      "execution_count": 1461,
      "outputs": [
        {
          "output_type": "execute_result",
          "data": {
            "text/plain": [
              "array(['III', 'I', 'II', 'I', 'IV', 'II', 'IV', 'III', 'I', 'I', 'I', 'I',\n",
              "       'III', 'IV', 'I', 'II', 'I', 'I', 'II', 'II', 'IV', 'II', 'II',\n",
              "       'III', 'I', 'I', 'III', 'I', 'II', 'II', 'I', 'IV', 'III', 'III',\n",
              "       'II', 'I', 'IV', 'IV', 'II', 'II', 'II', 'II', 'I', 'IV', 'IV',\n",
              "       'I', 'IV', 'IV', 'IV', 'I', 'I', 'II', 'IV', 'IV', 'III', 'I',\n",
              "       'III', 'III', 'III', 'I', 'II', 'IV', 'IV', 'II', 'I', 'IV', 'IV',\n",
              "       'II', 'II'], dtype=object)"
            ]
          },
          "metadata": {},
          "execution_count": 1461
        }
      ]
    },
    {
      "cell_type": "code",
      "source": [
        "y_dados_test_over"
      ],
      "metadata": {
        "colab": {
          "base_uri": "https://localhost:8080/"
        },
        "id": "gxPUcax-4WcN",
        "outputId": "078b8d62-4735-4ca8-e764-25b1311adf51"
      },
      "execution_count": 1462,
      "outputs": [
        {
          "output_type": "execute_result",
          "data": {
            "text/plain": [
              "array(['III', 'I', 'II', 'I', 'II', 'IV', 'III', 'I', 'I', 'II', 'II',\n",
              "       'I', 'III', 'IV', 'I', 'II', 'II', 'I', 'II', 'I', 'IV', 'II', 'I',\n",
              "       'III', 'I', 'I', 'III', 'II', 'II', 'I', 'I', 'IV', 'II', 'II',\n",
              "       'III', 'IV', 'IV', 'III', 'II', 'II', 'III', 'II', 'II', 'IV',\n",
              "       'IV', 'I', 'IV', 'IV', 'III', 'I', 'II', 'II', 'III', 'III', 'III',\n",
              "       'I', 'II', 'IV', 'I', 'I', 'I', 'IV', 'II', 'IV', 'I', 'IV', 'II',\n",
              "       'I', 'IV'], dtype=object)"
            ]
          },
          "metadata": {},
          "execution_count": 1462
        }
      ]
    },
    {
      "cell_type": "code",
      "source": [
        "from sklearn.metrics import accuracy_score, classification_report\n",
        "accuracy_score(y_dados_test_over, previsoes) # padronização"
      ],
      "metadata": {
        "colab": {
          "base_uri": "https://localhost:8080/"
        },
        "id": "0oEpDH1B4fXU",
        "outputId": "7a39105c-e7df-4bb3-c352-9bfd9f489419"
      },
      "execution_count": 1463,
      "outputs": [
        {
          "output_type": "execute_result",
          "data": {
            "text/plain": [
              "0.5507246376811594"
            ]
          },
          "metadata": {},
          "execution_count": 1463
        }
      ]
    },
    {
      "cell_type": "code",
      "source": [
        "from yellowbrick.classifier import ConfusionMatrix\n",
        "cm = ConfusionMatrix(knn_modelc)\n",
        "cm.fit(X_dados_train_over, y_dados_train_over)\n",
        "cm.score(X_dados_test_over, y_dados_test_over)"
      ],
      "metadata": {
        "colab": {
          "base_uri": "https://localhost:8080/",
          "height": 365
        },
        "id": "SfGBugCG4i4k",
        "outputId": "7d6a5acf-f8f3-467c-e905-434ac6a43d46"
      },
      "execution_count": 1464,
      "outputs": [
        {
          "output_type": "execute_result",
          "data": {
            "text/plain": [
              "0.5507246376811594"
            ]
          },
          "metadata": {},
          "execution_count": 1464
        },
        {
          "output_type": "display_data",
          "data": {
            "text/plain": [
              "<Figure size 576x396 with 1 Axes>"
            ],
            "image/png": "[encoded data removed]"
          },
          "metadata": {}
        }
      ]
    },
    {
      "cell_type": "markdown",
      "source": [
        "# ***RandomForestClassifier***{Balanced} => 0.81"
      ],
      "metadata": {
        "id": "XxgyPNGX3ylI"
      }
    },
    {
      "cell_type": "code",
      "source": [
        "#PREPARAR OS DADOS ==> Importar e tratar os dados\n",
        "import pandas as pd\n",
        "\n",
        "# Importando o Arquivo\n",
        "dados = pd.read_csv(\"dataMODIFICADOv10F.csv\", sep=\",\")\n",
        "\n",
        "#Transformando os nulos para 0\n",
        "dados = dados.fillna(1, inplace= False) \n",
        "\n",
        "#Separando as variaveis de interesse | sex\tage\tLYVE1\tREG1B\tTFF1\tcreatinine\tplasma_CA19_9\tREG1A\t\n",
        "X_dados = dados.iloc[:,5:13].values\n",
        "X_dados \n",
        "\n",
        "#Separando a classe alvo | stage2\n",
        "y_dados = dados.iloc[:,13].values\n",
        "y_dados\n",
        "\n",
        "# Tratando as colunas que São rotulos | sex\n",
        "from sklearn.preprocessing import LabelEncoder\n",
        "\n",
        "label_encoder_sex = LabelEncoder()\n",
        "X_dados[:,0] = label_encoder_sex.fit_transform(X_dados[:,0])\n",
        "X_dados\n",
        "\n",
        "# Sobreamostragem com SMOTE\n",
        "\n",
        "from imblearn.over_sampling import SMOTE\n",
        "\n",
        "smote = SMOTE(sampling_strategy='not majority')\n",
        "X_over, y_over = smote.fit_resample(X_dados, y_dados)\n",
        "\n",
        "#y_over.shape, X_over.shape\n",
        "np.unique(y_dados, return_counts = True), np.unique(y_over, return_counts = True)\n",
        "\n",
        "import seaborn as sns\n",
        "sns.countplot(x = y_over);\n",
        "\n",
        "from sklearn.preprocessing import OneHotEncoder\n",
        "from sklearn.compose import ColumnTransformer\n",
        "onehotencorder = ColumnTransformer(transformers=[(\"OneHot\", OneHotEncoder(), [0])],remainder='passthrough')\n",
        "X_dados = onehotencorder.fit_transform(X_over).toarray()\n",
        "\n",
        "#X_dados, X_dados.shape\n",
        "\n",
        "#ESCALONAMENTO DE ATRIBUTOS\n",
        "from sklearn.preprocessing import StandardScaler\n",
        "scaler_dados = StandardScaler()\n",
        "X_dados = scaler_dados.fit_transform(X_dados)\n",
        "X_dados\n",
        "\n",
        "#Separação dos dados BALANCEADOS\n",
        "from sklearn.model_selection import train_test_split\n",
        "\n",
        "X_dados_train_over, X_dados_test_over, y_dados_train_over, y_dados_test_over = train_test_split(X_dados, y_over, test_size=0.2, random_state=0)\n",
        "X_dados_train_over.shape, X_dados_test_over.shape\n"
      ],
      "metadata": {
        "colab": {
          "base_uri": "https://localhost:8080/",
          "height": 364
        },
        "id": "klf-LVhMNGjc",
        "outputId": "9fc7ea5b-eb42-4314-839c-6a9b1ce0d368"
      },
      "execution_count": 1736,
      "outputs": [
        {
          "output_type": "execute_result",
          "data": {
            "text/plain": [
              "((275, 82), (69, 82))"
            ]
          },
          "metadata": {},
          "execution_count": 1736
        },
        {
          "output_type": "display_data",
          "data": {
            "text/plain": [
              "<Figure size 576x396 with 1 Axes>"
            ],
            "image/png": "[encoded data removed]"
          },
          "metadata": {}
        }
      ]
    },
    {
      "cell_type": "code",
      "source": [
        "from sklearn.ensemble import RandomForestClassifier #1,6,300,10 -->0.681 | 1,5,200, 17 -->0.8115942028985508\n",
        "\n",
        "random_forest_dados = RandomForestClassifier(criterion = 'entropy', min_samples_leaf =  1, min_samples_split = 5, n_estimators = 200, random_state = 17 )\n",
        "random_forest_dados.fit(X_dados_train_over, y_dados_train_over)"
      ],
      "metadata": {
        "colab": {
          "base_uri": "https://localhost:8080/"
        },
        "id": "yxwaoRK8kpEy",
        "outputId": "c2da72b4-92d2-4f5b-e9f3-6118c29fddc4"
      },
      "execution_count": 1742,
      "outputs": [
        {
          "output_type": "execute_result",
          "data": {
            "text/plain": [
              "RandomForestClassifier(criterion='entropy', min_samples_split=5,\n",
              "                       n_estimators=200, random_state=17)"
            ]
          },
          "metadata": {},
          "execution_count": 1742
        }
      ]
    },
    {
      "cell_type": "code",
      "source": [
        "from sklearn.metrics import accuracy_score, classification_report\n",
        "previsoes = random_forest_dados.predict(X_dados_test_over)\n",
        "accuracy_score(y_dados_test_over, previsoes)"
      ],
      "metadata": {
        "colab": {
          "base_uri": "https://localhost:8080/"
        },
        "id": "WN5s6LAnlC4f",
        "outputId": "da452326-c0e6-46ae-c136-ebdab6d33ab7"
      },
      "execution_count": 1743,
      "outputs": [
        {
          "output_type": "execute_result",
          "data": {
            "text/plain": [
              "0.8115942028985508"
            ]
          },
          "metadata": {},
          "execution_count": 1743
        }
      ]
    },
    {
      "cell_type": "code",
      "source": [
        "from yellowbrick.classifier import ConfusionMatrix\n",
        "cm = ConfusionMatrix(random_forest_dados)\n",
        "cm.fit(X_dados_train_over, y_dados_train_over)\n",
        "cm.score(X_dados_test_over, y_dados_test_over)"
      ],
      "metadata": {
        "colab": {
          "base_uri": "https://localhost:8080/",
          "height": 365
        },
        "id": "RqKVj-EzbWyg",
        "outputId": "0e83e62b-7bcf-4baf-8267-466cf73fd554"
      },
      "execution_count": 1744,
      "outputs": [
        {
          "output_type": "execute_result",
          "data": {
            "text/plain": [
              "0.8115942028985508"
            ]
          },
          "metadata": {},
          "execution_count": 1744
        },
        {
          "output_type": "display_data",
          "data": {
            "text/plain": [
              "<Figure size 576x396 with 1 Axes>"
            ],
            "image/png": "[encoded data removed]"
          },
          "metadata": {}
        }
      ]
    },
    {
      "cell_type": "code",
      "source": [
        "print(classification_report(y_dados_test_over, previsoes))"
      ],
      "metadata": {
        "colab": {
          "base_uri": "https://localhost:8080/"
        },
        "id": "0TKZldoDqWvc",
        "outputId": "112c2c95-21d2-4df8-c1ff-45b5d9b7d6a2"
      },
      "execution_count": 1475,
      "outputs": [
        {
          "output_type": "stream",
          "name": "stdout",
          "text": [
            "              precision    recall  f1-score   support\n",
            "\n",
            "           I       0.89      0.81      0.85        21\n",
            "          II       0.67      0.48      0.56        21\n",
            "         III       0.50      0.83      0.62        12\n",
            "          IV       0.93      0.93      0.93        15\n",
            "\n",
            "    accuracy                           0.74        69\n",
            "   macro avg       0.75      0.76      0.74        69\n",
            "weighted avg       0.77      0.74      0.74        69\n",
            "\n"
          ]
        }
      ]
    },
    {
      "cell_type": "markdown",
      "source": [
        "# **Agrupamento Hierarquico**"
      ],
      "metadata": {
        "id": "ZAjK5orIOw9k"
      }
    },
    {
      "cell_type": "code",
      "source": [
        "#PREPARAR OS DADOS ==> Importar e tratar os dados\n",
        "import pandas as pd\n",
        "\n",
        "# Importando o Arquivo\n",
        "dados = pd.read_csv(\"dataMODIFICADOv10F.csv\", sep=\",\")\n",
        "\n",
        "#Transformando os nulos para 0\n",
        "dados = dados.fillna(1, inplace= False) \n",
        "\n",
        "#Separando as variaveis de interesse | sex\tage\tLYVE1\tREG1B\tTFF1\tcreatinine\tplasma_CA19_9\tREG1A\t\n",
        "X_dados = dados.iloc[:,7:10].values\n",
        "X_dados \n",
        "\n",
        "#Separando a classe alvo | stage2\n",
        "y_dados = dados.iloc[:,13].values\n",
        "y_dados\n",
        "\n",
        "# Tratando as colunas que São rotulos | sex\n",
        "from sklearn.preprocessing import LabelEncoder\n",
        "\n",
        "label_encoder_sex = LabelEncoder()\n",
        "y_dados = label_encoder_sex.fit_transform(y_dados)\n",
        "y_dados += y_dados\n",
        "\n",
        "# Sobreamostragem com SMOTE\n",
        "\n",
        "from imblearn.over_sampling import SMOTE\n",
        "\n",
        "smote = SMOTE(sampling_strategy='not majority')\n",
        "X_over, y_over = smote.fit_resample(X_dados, y_dados)\n",
        "\n",
        "#y_over.shape, X_over.shape\n",
        "np.unique(y_dados, return_counts = True), np.unique(y_over, return_counts = True)\n",
        "\n",
        "import seaborn as sns\n",
        "sns.countplot(x = y_over);\n",
        "\n",
        "#from sklearn.preprocessing import OneHotEncoder\n",
        "#from sklearn.compose import ColumnTransformer\n",
        "#onehotencorder = ColumnTransformer(transformers=[(\"OneHot\", OneHotEncoder(), [0])],remainder='passthrough')\n",
        "#X_dados = onehotencorder.fit_transform(X_over).toarray()\n",
        "\n",
        "#X_dados, X_dados.shape\n",
        "\n",
        "#ESCALONAMENTO DE ATRIBUTOS\n",
        "from sklearn.preprocessing import StandardScaler\n",
        "scaler_dados = StandardScaler()\n",
        "X_dados = scaler_dados.fit_transform(X_over)\n",
        "X_dados\n",
        "\n",
        "#Separação dos dados BALANCEADOS\n",
        "from sklearn.model_selection import train_test_split\n",
        "X_dados_train_over, X_dados_test_over, y_dados_train_over, y_dados_test_over = train_test_split(X_dados, y_over, test_size=0.2, random_state=0)\n"
      ],
      "metadata": {
        "colab": {
          "base_uri": "https://localhost:8080/",
          "height": 347
        },
        "id": "ag2xRPX74Tnl",
        "outputId": "44c276a2-f86d-419c-e44a-381c0da36aa7"
      },
      "execution_count": 1476,
      "outputs": [
        {
          "output_type": "display_data",
          "data": {
            "text/plain": [
              "<Figure size 576x396 with 1 Axes>"
            ],
            "image/png": "[encoded data removed]"
          },
          "metadata": {}
        }
      ]
    },
    {
      "cell_type": "code",
      "source": [
        "#Reduzir as dimensões de dimensões.\n",
        "from sklearn.decomposition import PCA\n",
        "import plotly.express as px\n"
      ],
      "metadata": {
        "id": "7uP7tvywO1WB"
      },
      "execution_count": 1477,
      "outputs": []
    },
    {
      "cell_type": "code",
      "source": [
        "pca = PCA(n_components=2)"
      ],
      "metadata": {
        "id": "O81dL1nGO4oM"
      },
      "execution_count": 1478,
      "outputs": []
    },
    {
      "cell_type": "code",
      "source": [
        "X_dados_train_pca = pca.fit_transform(X_dados_train_over)\n",
        "X_dados_test_pca = pca.transform(X_dados_test_over)"
      ],
      "metadata": {
        "id": "2A-49BgrO7oJ"
      },
      "execution_count": 1479,
      "outputs": []
    },
    {
      "cell_type": "code",
      "source": [
        "X_dados_train_pca.shape, X_dados_test_pca.shape,"
      ],
      "metadata": {
        "colab": {
          "base_uri": "https://localhost:8080/"
        },
        "id": "EbCcXVbIP6Hi",
        "outputId": "fa5a4e1c-f71f-4c69-bc44-fe3dbf872801"
      },
      "execution_count": 1480,
      "outputs": [
        {
          "output_type": "execute_result",
          "data": {
            "text/plain": [
              "((275, 2), (69, 2))"
            ]
          },
          "metadata": {},
          "execution_count": 1480
        }
      ]
    },
    {
      "cell_type": "code",
      "source": [
        "#X_dados_train_pca"
      ],
      "metadata": {
        "id": "ezM8GuI_QOuw"
      },
      "execution_count": 1481,
      "outputs": []
    },
    {
      "cell_type": "code",
      "source": [
        "pca.explained_variance_ratio_"
      ],
      "metadata": {
        "colab": {
          "base_uri": "https://localhost:8080/"
        },
        "id": "n9bCRWdgQlQ_",
        "outputId": "653c3cf0-d652-4317-f6b5-ab0ac69ecafe"
      },
      "execution_count": 1482,
      "outputs": [
        {
          "output_type": "execute_result",
          "data": {
            "text/plain": [
              "array([0.72155746, 0.16993379])"
            ]
          },
          "metadata": {},
          "execution_count": 1482
        }
      ]
    },
    {
      "cell_type": "code",
      "source": [
        "pca.explained_variance_ratio_.sum()"
      ],
      "metadata": {
        "colab": {
          "base_uri": "https://localhost:8080/"
        },
        "id": "w4wrfjYZQqE1",
        "outputId": "04d086f2-ba47-47c8-afd3-f53b9e459386"
      },
      "execution_count": 1483,
      "outputs": [
        {
          "output_type": "execute_result",
          "data": {
            "text/plain": [
              "0.8914912523831051"
            ]
          },
          "metadata": {},
          "execution_count": 1483
        }
      ]
    },
    {
      "cell_type": "code",
      "source": [
        "grafico = px.scatter(x = X_dados_train_pca[:,0], y= X_dados_train_pca[:,1]) \n",
        "grafico.show()"
      ],
      "metadata": {
        "colab": {
          "base_uri": "https://localhost:8080/",
          "height": 542
        },
        "id": "aBV2Nqt7cPFJ",
        "outputId": "1189adb7-749e-448f-8839-3df006f35c44"
      },
      "execution_count": 1484,
      "outputs": [
        {
          "output_type": "display_data",
          "data": {
            "text/html": [
              "<html>\n",
              "<head><meta charset=\"utf-8\" /></head>\n",
              "<body>\n",
              "    <div>            <script src=\"https://cdnjs.cloudflare.com/ajax/libs/mathjax/2.7.5/MathJax.js?config=TeX-AMS-MML_SVG\"></script><script type=\"text/javascript\">if (window.MathJax) {MathJax.Hub.Config({SVG: {font: \"STIX-Web\"}});}</script>                <script type=\"text/javascript\">window.PlotlyConfig = {MathJaxConfig: 'local'};</script>\n",
              "        <script src=\"https://cdn.plot.ly/plotly-2.8.3.min.js\"></script>                <div id=\"de50341b-7f4c-4628-a6c5-6dc11a62670e\" class=\"plotly-graph-div\" style=\"height:525px; width:100%;\"></div>            <script type=\"text/javascript\">                                    window.PLOTLYENV=window.PLOTLYENV || {};                                    if (document.getElementById(\"de50341b-7f4c-4628-a6c5-6dc11a62670e\")) {                    Plotly.newPlot(                        \"de50341b-7f4c-4628-a6c5-6dc11a62670e\",                        [{\"hovertemplate\":\"x=%{x}<br>y=%{y}<extra></extra>\",\"legendgroup\":\"\",\"marker\":{\"color\":\"#636efa\",\"symbol\":\"circle\"},\"mode\":\"markers\",\"name\":\"\",\"orientation\":\"v\",\"showlegend\":false,\"x\":[-0.5740820626351067,-1.1535076515946152,-0.7946318454649365,-1.341588929310895,2.0157385708451847,-0.5192933841767675,-0.9770292920287035,2.5386670774515427,-1.4194844928242092,-1.6172230897266822,-0.45608644532378795,-1.3082607403638136,0.7416624700355487,-0.5515788885344363,0.19681409470851716,-0.7319088609625686,0.2633064300978244,1.8931284732138722,-0.8275601177117982,0.020023471835695413,0.7574764622448003,-1.5714936558785906,1.1733229755943042,1.3654588211366798,-1.2653174690063658,1.5951472185967466,-0.3231017941244588,-0.5156965479152659,2.162190886793841,-0.7525675765868756,0.04855417682975727,-1.161890265851274,1.6250833329604026,1.0377331934587106,2.2846289146236303,-1.2254889642776787,-0.7954979075080372,-1.3212485697375298,3.9478322501496343,-1.4264490840196398,-1.5134755397054624,-1.2293987042610253,0.822072424177704,-1.3374637136706133,-0.8335111844561139,-0.8273083725490353,-0.6160915276506544,-1.4315847983665217,0.14071174389342142,-0.8363935110606788,-0.6781594392010591,-0.495352712594973,-0.45243674940988643,-0.6830360398202143,0.9173606888741559,1.0369411427944681,-1.4002129413516877,-0.33152123085546176,-1.567737732795637,-0.0629719668348452,-1.120363890018824,-0.7661618058371588,-1.5735485755770187,-1.180018816850749,1.868564792481028,-1.2959929279957227,-0.45347419429196023,-1.3913210062326518,-1.2765170339498642,-0.9123936345360916,-1.4438572376875745,-0.8821241904127248,-1.275333831734537,0.011683335120435826,-1.3508473837448274,-0.416376844151688,-1.3550743341110603,0.24653486946870964,-1.4739342925225725,0.7992572923315046,1.54576181472681,-1.4460250776436183,0.7251002986770924,-1.5479226681282896,-0.5717092293616082,-1.0868270896372325,-0.019333693137917593,1.813815215156422,2.4628893302323656,-1.2067868723912032,1.1882475687555172,0.7364775242924652,-1.0303626655903375,-1.0129696594649342,1.9778739511564285,0.7408766429248146,-1.4753087159276932,2.1728224263140827,-1.3134866199630564,0.9886895730453152,0.17755136769648772,-1.6411219822957268,-1.762184864233205,2.9762904515525745,1.7281834774482316,-0.7336006489211099,1.0351749264255445,-0.5241784759943372,0.011753705178352478,0.48385703394971946,-0.9822099948048499,1.6496816465654833,0.3558655230237274,0.8571028517355807,-0.023005741129751938,0.6888010858197581,-1.4808681003625683,2.4149355305248448,1.0332042708479288,8.66868792562702,1.0357906518669169,-0.48570341719438964,0.7916433927135819,2.748913190015965,0.08936385417189807,-0.9443090869574187,-0.14765797149374635,-1.640021132532172,1.661201663055384,1.0429680339463727,0.0320457790846018,-1.03723702405503,3.231869727558566,-0.15450154026839402,-1.286139475301696,-1.0638164645362855,-0.9066390102496621,-0.8167111435635471,0.3032460265341136,-1.8729796086258532,-1.5424336164206245,-0.6628423167892714,-0.3975488654394964,-0.4859420192416114,-0.04758376822415879,4.045570816257917,-1.3365854321174926,-0.5673113232681601,2.084309985249357,2.060237919447519,-1.1262640279866336,0.09921778104559419,-1.2467994232143593,-0.9025379431745921,-1.338717557489345,2.2324489136817713,-0.6417000247082274,-1.341246865615624,0.4652864091154218,1.9271378531122207,-0.18989015640986634,-0.4056231785269118,-1.5770240328197882,-0.631760862102555,-0.4891669998531341,-1.577834912808114,1.5187053681786404,-0.3591705828501335,2.253298667744524,-1.0639195052251573,-1.2430250752156247,-1.4776931345890736,-1.3506289280712902,-1.2302960540555345,-0.3344492995046919,-1.4314164725993397,2.1383111988372256,-0.7829321451751635,1.6904572063591188,0.8797607313167526,-1.232627383217959,-0.5077831971116924,-0.896433289414977,-0.8672072221976547,-0.526177022701647,1.2376205446378488,0.7141903466403221,-1.283369106079683,1.9937940749576222,-0.5530928045509789,1.0744592951617042,-1.3483870318840405,-0.48111762291885984,1.6179620333124316,-1.26814302267785,-0.7196360324013157,-0.8246991960996215,-0.6159501671024608,1.711612292553691,-1.2620690343195125,-1.2620524175643961,-1.6525121213750784,-0.86531873654176,1.9887586039399552,2.355883238809313,1.9100544920375282,1.8022992802756508,-1.3868802271006737,-1.4948428503331108,-1.3745722930086568,4.8399403451401115,-0.5453806280598137,2.143940136013514,-1.210485795435195,0.3231149117144676,-1.4605136474460243,3.8267254790329246,-1.4323433125008467,-1.0669815480631524,3.3267090432182096,-0.9321296848734566,-0.885974554314276,2.690439240981511,-0.39921627388146386,-1.1998998134725658,0.6917524153776031,-0.8504498871642743,-1.4740786229546663,-0.541764843370507,0.20837158052955826,2.4992254322563174,0.46127930658020566,2.2300455745507657,-1.3678841296104811,-1.4003599873126056,4.480041650149699,-1.753439124654749,-0.5567397797694033,4.677261429011623,-1.371823868215026,-0.27247277046556784,-0.5290245725770185,1.0772777433482945,1.884328060400563,-1.3729322606728709,-1.2561249473360736,0.4312941504808746,0.10313001333264009,-1.2273435474222152,0.0769888409946849,0.10904849501142079,-0.4415213926031467,-1.3464056844726469,-1.549206642347472,2.467856770921619,-0.6938049484811945,2.770421771999499,-1.117183037041103,2.1269704806553515,-0.140370355173188,4.323833372457305,-0.6005545178541439,-1.6310284229277054,-0.3200012078002631,-1.2935059628881598,1.6286393398057482,-1.463918294880292,-1.3413449811162466,-0.5392355128714151,-1.6514733143129325,-0.5173005851127994,2.0544958734056937,0.3487134212574507,-0.8416196475630647,1.6258516810426147],\"xaxis\":\"x\",\"y\":[0.5550579561935182,0.08030391025420987,0.39653234744885346,-0.4965051036903969,-1.635344188447144,1.0808305970969143,0.5508660538268657,0.35001274070345767,-0.3461698242222691,-0.26156813390992384,0.6161967465917123,0.040059688012713666,-0.3573467777694103,-1.3188616402265447,0.8944009121747055,0.36511794709016315,0.8936229800881327,0.5730245817669803,-0.08643458714603262,0.1131935158417307,1.1479834902872093,-0.39779075833681804,0.6836560667297105,1.9071322641235469,-0.8496386732578428,-0.39236450590953514,0.6991203104640629,-0.5094418445760324,0.2271807217756112,0.4811384781714079,0.0781697192677319,-0.21021455678119422,0.3865988961832503,-0.010094469803634204,0.039205251919638855,-0.13925851688291332,0.11714324237973588,-0.6173913718459929,-1.3955154956194433,-0.4588039485362755,-0.22583344493040178,-0.13489648317602457,-0.7592941057167997,-0.13646551088871217,-0.7256347872240851,0.10856795830330615,0.47895358225258094,-0.10475039051099329,0.8305207179068984,-0.459644907715567,0.8739812646973492,0.184197343241177,0.8391712204799274,-0.30222332787730694,-0.3416323064443842,0.2555267589316844,-0.3748360618184479,0.25368667822762164,-0.2773502255454673,-0.6561760900183523,-0.8973400236403718,-0.18491806885251177,-0.2134351359400683,0.19146448777178823,0.5236297035798564,-0.1773802704978616,0.6587583611184906,-0.6830777423499502,-0.16206596207051574,-0.21339343102181502,-0.4193646684727233,-0.6654089964486904,-0.04211921235547928,0.4891221172318067,-0.20237000360139926,-0.6110483353270367,-0.6742323337455681,0.10513871873473378,-0.3134950317588513,0.6616033370724173,-0.33448863726626266,-0.722137123723883,0.696360352213277,-0.334901516258601,0.6298539407333948,-0.5251618338832279,1.3086337122347185,-1.1967845391485796,0.9676865997547257,-0.16012413852159663,0.08449037103398581,0.580296531317485,-0.48371264752840787,-0.8060384494366579,-0.840890595890089,-0.12986625698384857,-0.21978852614959205,0.22080890081011287,-0.6334798385226977,-0.5035322414841891,0.4825767686916509,-0.3179342739086238,-0.5024596107022089,-0.620811183259205,0.020872491794739656,0.3191138797571479,0.847843113561697,0.9004908780807782,0.7209811707830494,0.8352613182766783,0.06027177775364716,0.2561476972353869,0.4459872713059863,0.7600757452121091,1.629201961805638,0.6672211899376563,-0.5697681980696445,0.9111075892186096,1.5087199735556118,-2.763927682620282,0.6413541152127484,-0.10211820545734501,-0.06739397230701966,0.7450363597635078,0.6650789980873927,0.1463786190404958,0.3025605973450638,-0.3496430354269624,1.7326793165030694,0.12407577375159301,0.6774956574766126,-0.7183544360468682,4.162947032193092,-0.9918762712627281,-0.8881636986363406,-0.5471402807139373,-0.24550996508065628,0.5225941670073567,-0.7441901342873489,-0.6443190130842945,-0.4859846238705705,-0.19825251989769463,0.11479874746079398,0.01049316176775546,0.34616811084524846,-1.1616999875240865,-0.14390689010254595,0.9338243473014551,0.14112189573364575,0.20250789788473203,0.20598821121067604,-0.1192082020165083,-0.11548278228495489,-0.7011843969051765,-0.24067728037204647,0.06575297053423794,0.27802809826614877,-0.3912403550059121,0.4408279917883331,0.3662328344335684,0.164787685632314,-0.06557247216497608,-0.41254623731475537,0.8649215833549438,0.153594063382052,-0.4117365659513868,0.8850694088999738,0.9731572778660564,0.05514520138800287,0.07873297984162217,-0.2370574284962293,-0.33002628374745563,-0.20129427397979097,-0.279256969656645,0.1560694319518953,-0.24474114696607838,0.11364759528710135,-0.11095488872592263,2.1887232943374655,-0.29544453648530017,-0.32810278670035853,1.0204991860858021,0.06419713877095137,-0.6722561491440141,-0.48412286963799,1.1077855441392723,-0.726532516585892,-0.1614964079488791,-1.3760573779704532,0.3913569054949737,0.649994634534248,-0.25781902950108865,-0.08242125495563662,0.8090521693378134,0.018812429849998355,-0.23624282649072545,-0.3433230663528412,-0.4353532160800968,0.14281670001809,-0.23578581762451106,-0.31130887664227613,-0.39372723824735123,0.3179913279233584,0.38478678710123493,-1.2694184379083069,-1.2439901233816606,0.600176880717078,-0.39466833920755673,-0.42993076530409774,-0.7737772247825839,-0.7374475350584695,0.9789570656305824,0.24653941565896503,0.34574268278940157,1.0200562496145948,-0.19755555635791977,-0.11480302503974628,-0.3514232674270011,-0.3472992144149751,-0.7893410888011345,-0.01619050783409755,0.5282553757703237,0.8619441368672961,0.3486553160002399,-0.26127985246150814,-0.9846637979153819,-0.15433864483037935,-0.3491826242380275,1.1004036865963849,0.8896773753547036,-0.06997542770766388,-1.1966362936417998,-0.16097521030506864,-0.17152344769848646,-0.5386388803333313,-3.193818882314772,-0.6573110072905495,0.028942918534168353,-2.0583820676462503,-0.653751131663975,0.2787321591138362,1.1318372682902536,0.7363585623799374,0.5054206288811144,-0.6524532434053807,-0.3052246608400116,1.2685885202661698,0.7056092508553676,-0.2762769852525995,1.4629688194840345,-0.7748480124040574,-0.5699169034806627,-0.39727363746899796,-0.4158514345935175,-0.06627941920636007,0.6743301783153359,-0.6249311286331715,0.23232772239134003,-1.015620181562274,0.6191413265117041,-0.4610360195770998,0.3109002094049699,-0.4154706485218786,0.4714240694752231,-0.15492981867585118,1.6573560773785418,-0.5974823659242704,-0.4624015563411773,1.185358590943681,-0.3254030778992972,1.0073230500253458,-1.5098334556422575,-0.6305028979414832,-0.9509326083009145,0.17046755609316172],\"yaxis\":\"y\",\"type\":\"scatter\"}],                        {\"template\":{\"data\":{\"bar\":[{\"error_x\":{\"color\":\"#2a3f5f\"},\"error_y\":{\"color\":\"#2a3f5f\"},\"marker\":{\"line\":{\"color\":\"#E5ECF6\",\"width\":0.5},\"pattern\":{\"fillmode\":\"overlay\",\"size\":10,\"solidity\":0.2}},\"type\":\"bar\"}],\"barpolar\":[{\"marker\":{\"line\":{\"color\":\"#E5ECF6\",\"width\":0.5},\"pattern\":{\"fillmode\":\"overlay\",\"size\":10,\"solidity\":0.2}},\"type\":\"barpolar\"}],\"carpet\":[{\"aaxis\":{\"endlinecolor\":\"#2a3f5f\",\"gridcolor\":\"white\",\"linecolor\":\"white\",\"minorgridcolor\":\"white\",\"startlinecolor\":\"#2a3f5f\"},\"baxis\":{\"endlinecolor\":\"#2a3f5f\",\"gridcolor\":\"white\",\"linecolor\":\"white\",\"minorgridcolor\":\"white\",\"startlinecolor\":\"#2a3f5f\"},\"type\":\"carpet\"}],\"choropleth\":[{\"colorbar\":{\"outlinewidth\":0,\"ticks\":\"\"},\"type\":\"choropleth\"}],\"contour\":[{\"colorbar\":{\"outlinewidth\":0,\"ticks\":\"\"},\"colorscale\":[[0.0,\"#0d0887\"],[0.1111111111111111,\"#46039f\"],[0.2222222222222222,\"#7201a8\"],[0.3333333333333333,\"#9c179e\"],[0.4444444444444444,\"#bd3786\"],[0.5555555555555556,\"#d8576b\"],[0.6666666666666666,\"#ed7953\"],[0.7777777777777778,\"#fb9f3a\"],[0.8888888888888888,\"#fdca26\"],[1.0,\"#f0f921\"]],\"type\":\"contour\"}],\"contourcarpet\":[{\"colorbar\":{\"outlinewidth\":0,\"ticks\":\"\"},\"type\":\"contourcarpet\"}],\"heatmap\":[{\"colorbar\":{\"outlinewidth\":0,\"ticks\":\"\"},\"colorscale\":[[0.0,\"#0d0887\"],[0.1111111111111111,\"#46039f\"],[0.2222222222222222,\"#7201a8\"],[0.3333333333333333,\"#9c179e\"],[0.4444444444444444,\"#bd3786\"],[0.5555555555555556,\"#d8576b\"],[0.6666666666666666,\"#ed7953\"],[0.7777777777777778,\"#fb9f3a\"],[0.8888888888888888,\"#fdca26\"],[1.0,\"#f0f921\"]],\"type\":\"heatmap\"}],\"heatmapgl\":[{\"colorbar\":{\"outlinewidth\":0,\"ticks\":\"\"},\"colorscale\":[[0.0,\"#0d0887\"],[0.1111111111111111,\"#46039f\"],[0.2222222222222222,\"#7201a8\"],[0.3333333333333333,\"#9c179e\"],[0.4444444444444444,\"#bd3786\"],[0.5555555555555556,\"#d8576b\"],[0.6666666666666666,\"#ed7953\"],[0.7777777777777778,\"#fb9f3a\"],[0.8888888888888888,\"#fdca26\"],[1.0,\"#f0f921\"]],\"type\":\"heatmapgl\"}],\"histogram\":[{\"marker\":{\"pattern\":{\"fillmode\":\"overlay\",\"size\":10,\"solidity\":0.2}},\"type\":\"histogram\"}],\"histogram2d\":[{\"colorbar\":{\"outlinewidth\":0,\"ticks\":\"\"},\"colorscale\":[[0.0,\"#0d0887\"],[0.1111111111111111,\"#46039f\"],[0.2222222222222222,\"#7201a8\"],[0.3333333333333333,\"#9c179e\"],[0.4444444444444444,\"#bd3786\"],[0.5555555555555556,\"#d8576b\"],[0.6666666666666666,\"#ed7953\"],[0.7777777777777778,\"#fb9f3a\"],[0.8888888888888888,\"#fdca26\"],[1.0,\"#f0f921\"]],\"type\":\"histogram2d\"}],\"histogram2dcontour\":[{\"colorbar\":{\"outlinewidth\":0,\"ticks\":\"\"},\"colorscale\":[[0.0,\"#0d0887\"],[0.1111111111111111,\"#46039f\"],[0.2222222222222222,\"#7201a8\"],[0.3333333333333333,\"#9c179e\"],[0.4444444444444444,\"#bd3786\"],[0.5555555555555556,\"#d8576b\"],[0.6666666666666666,\"#ed7953\"],[0.7777777777777778,\"#fb9f3a\"],[0.8888888888888888,\"#fdca26\"],[1.0,\"#f0f921\"]],\"type\":\"histogram2dcontour\"}],\"mesh3d\":[{\"colorbar\":{\"outlinewidth\":0,\"ticks\":\"\"},\"type\":\"mesh3d\"}],\"parcoords\":[{\"line\":{\"colorbar\":{\"outlinewidth\":0,\"ticks\":\"\"}},\"type\":\"parcoords\"}],\"pie\":[{\"automargin\":true,\"type\":\"pie\"}],\"scatter\":[{\"marker\":{\"colorbar\":{\"outlinewidth\":0,\"ticks\":\"\"}},\"type\":\"scatter\"}],\"scatter3d\":[{\"line\":{\"colorbar\":{\"outlinewidth\":0,\"ticks\":\"\"}},\"marker\":{\"colorbar\":{\"outlinewidth\":0,\"ticks\":\"\"}},\"type\":\"scatter3d\"}],\"scattercarpet\":[{\"marker\":{\"colorbar\":{\"outlinewidth\":0,\"ticks\":\"\"}},\"type\":\"scattercarpet\"}],\"scattergeo\":[{\"marker\":{\"colorbar\":{\"outlinewidth\":0,\"ticks\":\"\"}},\"type\":\"scattergeo\"}],\"scattergl\":[{\"marker\":{\"colorbar\":{\"outlinewidth\":0,\"ticks\":\"\"}},\"type\":\"scattergl\"}],\"scattermapbox\":[{\"marker\":{\"colorbar\":{\"outlinewidth\":0,\"ticks\":\"\"}},\"type\":\"scattermapbox\"}],\"scatterpolar\":[{\"marker\":{\"colorbar\":{\"outlinewidth\":0,\"ticks\":\"\"}},\"type\":\"scatterpolar\"}],\"scatterpolargl\":[{\"marker\":{\"colorbar\":{\"outlinewidth\":0,\"ticks\":\"\"}},\"type\":\"scatterpolargl\"}],\"scatterternary\":[{\"marker\":{\"colorbar\":{\"outlinewidth\":0,\"ticks\":\"\"}},\"type\":\"scatterternary\"}],\"surface\":[{\"colorbar\":{\"outlinewidth\":0,\"ticks\":\"\"},\"colorscale\":[[0.0,\"#0d0887\"],[0.1111111111111111,\"#46039f\"],[0.2222222222222222,\"#7201a8\"],[0.3333333333333333,\"#9c179e\"],[0.4444444444444444,\"#bd3786\"],[0.5555555555555556,\"#d8576b\"],[0.6666666666666666,\"#ed7953\"],[0.7777777777777778,\"#fb9f3a\"],[0.8888888888888888,\"#fdca26\"],[1.0,\"#f0f921\"]],\"type\":\"surface\"}],\"table\":[{\"cells\":{\"fill\":{\"color\":\"#EBF0F8\"},\"line\":{\"color\":\"white\"}},\"header\":{\"fill\":{\"color\":\"#C8D4E3\"},\"line\":{\"color\":\"white\"}},\"type\":\"table\"}]},\"layout\":{\"annotationdefaults\":{\"arrowcolor\":\"#2a3f5f\",\"arrowhead\":0,\"arrowwidth\":1},\"autotypenumbers\":\"strict\",\"coloraxis\":{\"colorbar\":{\"outlinewidth\":0,\"ticks\":\"\"}},\"colorscale\":{\"diverging\":[[0,\"#8e0152\"],[0.1,\"#c51b7d\"],[0.2,\"#de77ae\"],[0.3,\"#f1b6da\"],[0.4,\"#fde0ef\"],[0.5,\"#f7f7f7\"],[0.6,\"#e6f5d0\"],[0.7,\"#b8e186\"],[0.8,\"#7fbc41\"],[0.9,\"#4d9221\"],[1,\"#276419\"]],\"sequential\":[[0.0,\"#0d0887\"],[0.1111111111111111,\"#46039f\"],[0.2222222222222222,\"#7201a8\"],[0.3333333333333333,\"#9c179e\"],[0.4444444444444444,\"#bd3786\"],[0.5555555555555556,\"#d8576b\"],[0.6666666666666666,\"#ed7953\"],[0.7777777777777778,\"#fb9f3a\"],[0.8888888888888888,\"#fdca26\"],[1.0,\"#f0f921\"]],\"sequentialminus\":[[0.0,\"#0d0887\"],[0.1111111111111111,\"#46039f\"],[0.2222222222222222,\"#7201a8\"],[0.3333333333333333,\"#9c179e\"],[0.4444444444444444,\"#bd3786\"],[0.5555555555555556,\"#d8576b\"],[0.6666666666666666,\"#ed7953\"],[0.7777777777777778,\"#fb9f3a\"],[0.8888888888888888,\"#fdca26\"],[1.0,\"#f0f921\"]]},\"colorway\":[\"#636efa\",\"#EF553B\",\"#00cc96\",\"#ab63fa\",\"#FFA15A\",\"#19d3f3\",\"#FF6692\",\"#B6E880\",\"#FF97FF\",\"#FECB52\"],\"font\":{\"color\":\"#2a3f5f\"},\"geo\":{\"bgcolor\":\"white\",\"lakecolor\":\"white\",\"landcolor\":\"#E5ECF6\",\"showlakes\":true,\"showland\":true,\"subunitcolor\":\"white\"},\"hoverlabel\":{\"align\":\"left\"},\"hovermode\":\"closest\",\"mapbox\":{\"style\":\"light\"},\"paper_bgcolor\":\"white\",\"plot_bgcolor\":\"#E5ECF6\",\"polar\":{\"angularaxis\":{\"gridcolor\":\"white\",\"linecolor\":\"white\",\"ticks\":\"\"},\"bgcolor\":\"#E5ECF6\",\"radialaxis\":{\"gridcolor\":\"white\",\"linecolor\":\"white\",\"ticks\":\"\"}},\"scene\":{\"xaxis\":{\"backgroundcolor\":\"#E5ECF6\",\"gridcolor\":\"white\",\"gridwidth\":2,\"linecolor\":\"white\",\"showbackground\":true,\"ticks\":\"\",\"zerolinecolor\":\"white\"},\"yaxis\":{\"backgroundcolor\":\"#E5ECF6\",\"gridcolor\":\"white\",\"gridwidth\":2,\"linecolor\":\"white\",\"showbackground\":true,\"ticks\":\"\",\"zerolinecolor\":\"white\"},\"zaxis\":{\"backgroundcolor\":\"#E5ECF6\",\"gridcolor\":\"white\",\"gridwidth\":2,\"linecolor\":\"white\",\"showbackground\":true,\"ticks\":\"\",\"zerolinecolor\":\"white\"}},\"shapedefaults\":{\"line\":{\"color\":\"#2a3f5f\"}},\"ternary\":{\"aaxis\":{\"gridcolor\":\"white\",\"linecolor\":\"white\",\"ticks\":\"\"},\"baxis\":{\"gridcolor\":\"white\",\"linecolor\":\"white\",\"ticks\":\"\"},\"bgcolor\":\"#E5ECF6\",\"caxis\":{\"gridcolor\":\"white\",\"linecolor\":\"white\",\"ticks\":\"\"}},\"title\":{\"x\":0.05},\"xaxis\":{\"automargin\":true,\"gridcolor\":\"white\",\"linecolor\":\"white\",\"ticks\":\"\",\"title\":{\"standoff\":15},\"zerolinecolor\":\"white\",\"zerolinewidth\":2},\"yaxis\":{\"automargin\":true,\"gridcolor\":\"white\",\"linecolor\":\"white\",\"ticks\":\"\",\"title\":{\"standoff\":15},\"zerolinecolor\":\"white\",\"zerolinewidth\":2}}},\"xaxis\":{\"anchor\":\"y\",\"domain\":[0.0,1.0],\"title\":{\"text\":\"x\"}},\"yaxis\":{\"anchor\":\"x\",\"domain\":[0.0,1.0],\"title\":{\"text\":\"y\"}},\"legend\":{\"tracegroupgap\":0},\"margin\":{\"t\":60}},                        {\"responsive\": true}                    ).then(function(){\n",
              "                            \n",
              "var gd = document.getElementById('de50341b-7f4c-4628-a6c5-6dc11a62670e');\n",
              "var x = new MutationObserver(function (mutations, observer) {{\n",
              "        var display = window.getComputedStyle(gd).display;\n",
              "        if (!display || display === 'none') {{\n",
              "            console.log([gd, 'removed!']);\n",
              "            Plotly.purge(gd);\n",
              "            observer.disconnect();\n",
              "        }}\n",
              "}});\n",
              "\n",
              "// Listen for the removal of the full notebook cells\n",
              "var notebookContainer = gd.closest('#notebook-container');\n",
              "if (notebookContainer) {{\n",
              "    x.observe(notebookContainer, {childList: true});\n",
              "}}\n",
              "\n",
              "// Listen for the clearing of the current output cell\n",
              "var outputEl = gd.closest('.output');\n",
              "if (outputEl) {{\n",
              "    x.observe(outputEl, {childList: true});\n",
              "}}\n",
              "\n",
              "                        })                };                            </script>        </div>\n",
              "</body>\n",
              "</html>"
            ]
          },
          "metadata": {}
        }
      ]
    },
    {
      "cell_type": "code",
      "source": [
        "import matplotlib.pyplot as plt\n",
        "from scipy.cluster.hierarchy import dendrogram, linkage"
      ],
      "metadata": {
        "id": "nLLYaRYSsQnf"
      },
      "execution_count": 1485,
      "outputs": []
    },
    {
      "cell_type": "code",
      "source": [
        "dendrograma = dendrogram(linkage(X_dados_train_pca, method='ward'))\n",
        "plt.title('Dendrograma')\n",
        "plt.xlabel('Biomarcadores')\n",
        "plt.ylabel('Distância');"
      ],
      "metadata": {
        "colab": {
          "base_uri": "https://localhost:8080/",
          "height": 374
        },
        "id": "fe1WkmfosS-Y",
        "outputId": "052edeca-6c75-4360-e6cc-11ef22802efb"
      },
      "execution_count": 1486,
      "outputs": [
        {
          "output_type": "display_data",
          "data": {
            "text/plain": [
              "<Figure size 576x396 with 1 Axes>"
            ],
            "image/png": "[encoded data removed]"
          },
          "metadata": {}
        }
      ]
    },
    {
      "cell_type": "code",
      "source": [
        "from sklearn.cluster import AgglomerativeClustering"
      ],
      "metadata": {
        "id": "AnDNJbZisdha"
      },
      "execution_count": 1487,
      "outputs": []
    },
    {
      "cell_type": "code",
      "source": [
        "hc_dados_agrup = AgglomerativeClustering(n_clusters=2, linkage='ward', affinity='euclidean')\n",
        "rotulos = hc_dados_agrup.fit_predict(X_dados_train_pca)"
      ],
      "metadata": {
        "id": "BCu8KDb1sg1-"
      },
      "execution_count": 1488,
      "outputs": []
    },
    {
      "cell_type": "code",
      "source": [
        "grafico = px.scatter(x = X_dados_train_pca[:,0], y = X_dados_train_pca[:,1], color = rotulos)\n",
        "grafico.show()"
      ],
      "metadata": {
        "colab": {
          "base_uri": "https://localhost:8080/",
          "height": 542
        },
        "id": "PE-eUklJs9OC",
        "outputId": "b8240977-1983-431b-86b8-41efefdc9bf7"
      },
      "execution_count": 1490,
      "outputs": [
        {
          "output_type": "display_data",
          "data": {
            "text/html": [
              "<html>\n",
              "<head><meta charset=\"utf-8\" /></head>\n",
              "<body>\n",
              "    <div>            <script src=\"https://cdnjs.cloudflare.com/ajax/libs/mathjax/2.7.5/MathJax.js?config=TeX-AMS-MML_SVG\"></script><script type=\"text/javascript\">if (window.MathJax) {MathJax.Hub.Config({SVG: {font: \"STIX-Web\"}});}</script>                <script type=\"text/javascript\">window.PlotlyConfig = {MathJaxConfig: 'local'};</script>\n",
              "        <script src=\"https://cdn.plot.ly/plotly-2.8.3.min.js\"></script>                <div id=\"0af20753-ec84-4da9-9397-7f9d45c46e58\" class=\"plotly-graph-div\" style=\"height:525px; width:100%;\"></div>            <script type=\"text/javascript\">                                    window.PLOTLYENV=window.PLOTLYENV || {};                                    if (document.getElementById(\"0af20753-ec84-4da9-9397-7f9d45c46e58\")) {                    Plotly.newPlot(                        \"0af20753-ec84-4da9-9397-7f9d45c46e58\",                        [{\"hovertemplate\":\"x=%{x}<br>y=%{y}<br>color=%{marker.color}<extra></extra>\",\"legendgroup\":\"\",\"marker\":{\"color\":[1,1,1,1,0,1,1,0,1,1,1,1,0,1,1,1,1,0,1,1,0,1,0,0,1,0,1,1,0,1,1,1,0,0,0,1,1,1,0,1,1,1,0,1,1,1,1,1,1,1,1,1,1,1,0,0,1,1,1,0,1,1,1,1,0,1,1,1,1,1,1,1,1,1,1,1,1,1,1,0,0,1,0,1,1,1,1,0,0,1,0,0,1,1,0,0,1,0,1,0,1,1,1,0,0,1,0,1,1,1,1,0,0,0,1,0,1,0,0,0,0,1,0,0,1,1,1,1,0,0,1,1,0,0,1,1,1,1,0,1,1,1,1,1,1,0,1,1,0,0,1,1,1,1,1,0,1,1,0,0,1,1,1,1,1,1,0,1,0,1,1,1,1,1,1,1,0,1,0,0,1,1,1,1,1,0,0,1,0,1,0,1,1,0,1,1,1,1,0,1,1,1,1,0,0,0,0,1,1,1,0,1,0,1,1,1,0,1,1,0,1,1,0,1,1,0,1,1,1,1,0,0,0,1,1,0,1,1,0,1,1,1,0,0,1,1,0,1,1,1,0,1,1,1,0,1,0,1,0,1,0,1,1,1,1,0,1,1,1,1,1,0,0,1,0],\"coloraxis\":\"coloraxis\",\"symbol\":\"circle\"},\"mode\":\"markers\",\"name\":\"\",\"orientation\":\"v\",\"showlegend\":false,\"x\":[-0.5740820626351067,-1.1535076515946152,-0.7946318454649365,-1.341588929310895,2.0157385708451847,-0.5192933841767675,-0.9770292920287035,2.5386670774515427,-1.4194844928242092,-1.6172230897266822,-0.45608644532378795,-1.3082607403638136,0.7416624700355487,-0.5515788885344363,0.19681409470851716,-0.7319088609625686,0.2633064300978244,1.8931284732138722,-0.8275601177117982,0.020023471835695413,0.7574764622448003,-1.5714936558785906,1.1733229755943042,1.3654588211366798,-1.2653174690063658,1.5951472185967466,-0.3231017941244588,-0.5156965479152659,2.162190886793841,-0.7525675765868756,0.04855417682975727,-1.161890265851274,1.6250833329604026,1.0377331934587106,2.2846289146236303,-1.2254889642776787,-0.7954979075080372,-1.3212485697375298,3.9478322501496343,-1.4264490840196398,-1.5134755397054624,-1.2293987042610253,0.822072424177704,-1.3374637136706133,-0.8335111844561139,-0.8273083725490353,-0.6160915276506544,-1.4315847983665217,0.14071174389342142,-0.8363935110606788,-0.6781594392010591,-0.495352712594973,-0.45243674940988643,-0.6830360398202143,0.9173606888741559,1.0369411427944681,-1.4002129413516877,-0.33152123085546176,-1.567737732795637,-0.0629719668348452,-1.120363890018824,-0.7661618058371588,-1.5735485755770187,-1.180018816850749,1.868564792481028,-1.2959929279957227,-0.45347419429196023,-1.3913210062326518,-1.2765170339498642,-0.9123936345360916,-1.4438572376875745,-0.8821241904127248,-1.275333831734537,0.011683335120435826,-1.3508473837448274,-0.416376844151688,-1.3550743341110603,0.24653486946870964,-1.4739342925225725,0.7992572923315046,1.54576181472681,-1.4460250776436183,0.7251002986770924,-1.5479226681282896,-0.5717092293616082,-1.0868270896372325,-0.019333693137917593,1.813815215156422,2.4628893302323656,-1.2067868723912032,1.1882475687555172,0.7364775242924652,-1.0303626655903375,-1.0129696594649342,1.9778739511564285,0.7408766429248146,-1.4753087159276932,2.1728224263140827,-1.3134866199630564,0.9886895730453152,0.17755136769648772,-1.6411219822957268,-1.762184864233205,2.9762904515525745,1.7281834774482316,-0.7336006489211099,1.0351749264255445,-0.5241784759943372,0.011753705178352478,0.48385703394971946,-0.9822099948048499,1.6496816465654833,0.3558655230237274,0.8571028517355807,-0.023005741129751938,0.6888010858197581,-1.4808681003625683,2.4149355305248448,1.0332042708479288,8.66868792562702,1.0357906518669169,-0.48570341719438964,0.7916433927135819,2.748913190015965,0.08936385417189807,-0.9443090869574187,-0.14765797149374635,-1.640021132532172,1.661201663055384,1.0429680339463727,0.0320457790846018,-1.03723702405503,3.231869727558566,-0.15450154026839402,-1.286139475301696,-1.0638164645362855,-0.9066390102496621,-0.8167111435635471,0.3032460265341136,-1.8729796086258532,-1.5424336164206245,-0.6628423167892714,-0.3975488654394964,-0.4859420192416114,-0.04758376822415879,4.045570816257917,-1.3365854321174926,-0.5673113232681601,2.084309985249357,2.060237919447519,-1.1262640279866336,0.09921778104559419,-1.2467994232143593,-0.9025379431745921,-1.338717557489345,2.2324489136817713,-0.6417000247082274,-1.341246865615624,0.4652864091154218,1.9271378531122207,-0.18989015640986634,-0.4056231785269118,-1.5770240328197882,-0.631760862102555,-0.4891669998531341,-1.577834912808114,1.5187053681786404,-0.3591705828501335,2.253298667744524,-1.0639195052251573,-1.2430250752156247,-1.4776931345890736,-1.3506289280712902,-1.2302960540555345,-0.3344492995046919,-1.4314164725993397,2.1383111988372256,-0.7829321451751635,1.6904572063591188,0.8797607313167526,-1.232627383217959,-0.5077831971116924,-0.896433289414977,-0.8672072221976547,-0.526177022701647,1.2376205446378488,0.7141903466403221,-1.283369106079683,1.9937940749576222,-0.5530928045509789,1.0744592951617042,-1.3483870318840405,-0.48111762291885984,1.6179620333124316,-1.26814302267785,-0.7196360324013157,-0.8246991960996215,-0.6159501671024608,1.711612292553691,-1.2620690343195125,-1.2620524175643961,-1.6525121213750784,-0.86531873654176,1.9887586039399552,2.355883238809313,1.9100544920375282,1.8022992802756508,-1.3868802271006737,-1.4948428503331108,-1.3745722930086568,4.8399403451401115,-0.5453806280598137,2.143940136013514,-1.210485795435195,0.3231149117144676,-1.4605136474460243,3.8267254790329246,-1.4323433125008467,-1.0669815480631524,3.3267090432182096,-0.9321296848734566,-0.885974554314276,2.690439240981511,-0.39921627388146386,-1.1998998134725658,0.6917524153776031,-0.8504498871642743,-1.4740786229546663,-0.541764843370507,0.20837158052955826,2.4992254322563174,0.46127930658020566,2.2300455745507657,-1.3678841296104811,-1.4003599873126056,4.480041650149699,-1.753439124654749,-0.5567397797694033,4.677261429011623,-1.371823868215026,-0.27247277046556784,-0.5290245725770185,1.0772777433482945,1.884328060400563,-1.3729322606728709,-1.2561249473360736,0.4312941504808746,0.10313001333264009,-1.2273435474222152,0.0769888409946849,0.10904849501142079,-0.4415213926031467,-1.3464056844726469,-1.549206642347472,2.467856770921619,-0.6938049484811945,2.770421771999499,-1.117183037041103,2.1269704806553515,-0.140370355173188,4.323833372457305,-0.6005545178541439,-1.6310284229277054,-0.3200012078002631,-1.2935059628881598,1.6286393398057482,-1.463918294880292,-1.3413449811162466,-0.5392355128714151,-1.6514733143129325,-0.5173005851127994,2.0544958734056937,0.3487134212574507,-0.8416196475630647,1.6258516810426147],\"xaxis\":\"x\",\"y\":[0.5550579561935182,0.08030391025420987,0.39653234744885346,-0.4965051036903969,-1.635344188447144,1.0808305970969143,0.5508660538268657,0.35001274070345767,-0.3461698242222691,-0.26156813390992384,0.6161967465917123,0.040059688012713666,-0.3573467777694103,-1.3188616402265447,0.8944009121747055,0.36511794709016315,0.8936229800881327,0.5730245817669803,-0.08643458714603262,0.1131935158417307,1.1479834902872093,-0.39779075833681804,0.6836560667297105,1.9071322641235469,-0.8496386732578428,-0.39236450590953514,0.6991203104640629,-0.5094418445760324,0.2271807217756112,0.4811384781714079,0.0781697192677319,-0.21021455678119422,0.3865988961832503,-0.010094469803634204,0.039205251919638855,-0.13925851688291332,0.11714324237973588,-0.6173913718459929,-1.3955154956194433,-0.4588039485362755,-0.22583344493040178,-0.13489648317602457,-0.7592941057167997,-0.13646551088871217,-0.7256347872240851,0.10856795830330615,0.47895358225258094,-0.10475039051099329,0.8305207179068984,-0.459644907715567,0.8739812646973492,0.184197343241177,0.8391712204799274,-0.30222332787730694,-0.3416323064443842,0.2555267589316844,-0.3748360618184479,0.25368667822762164,-0.2773502255454673,-0.6561760900183523,-0.8973400236403718,-0.18491806885251177,-0.2134351359400683,0.19146448777178823,0.5236297035798564,-0.1773802704978616,0.6587583611184906,-0.6830777423499502,-0.16206596207051574,-0.21339343102181502,-0.4193646684727233,-0.6654089964486904,-0.04211921235547928,0.4891221172318067,-0.20237000360139926,-0.6110483353270367,-0.6742323337455681,0.10513871873473378,-0.3134950317588513,0.6616033370724173,-0.33448863726626266,-0.722137123723883,0.696360352213277,-0.334901516258601,0.6298539407333948,-0.5251618338832279,1.3086337122347185,-1.1967845391485796,0.9676865997547257,-0.16012413852159663,0.08449037103398581,0.580296531317485,-0.48371264752840787,-0.8060384494366579,-0.840890595890089,-0.12986625698384857,-0.21978852614959205,0.22080890081011287,-0.6334798385226977,-0.5035322414841891,0.4825767686916509,-0.3179342739086238,-0.5024596107022089,-0.620811183259205,0.020872491794739656,0.3191138797571479,0.847843113561697,0.9004908780807782,0.7209811707830494,0.8352613182766783,0.06027177775364716,0.2561476972353869,0.4459872713059863,0.7600757452121091,1.629201961805638,0.6672211899376563,-0.5697681980696445,0.9111075892186096,1.5087199735556118,-2.763927682620282,0.6413541152127484,-0.10211820545734501,-0.06739397230701966,0.7450363597635078,0.6650789980873927,0.1463786190404958,0.3025605973450638,-0.3496430354269624,1.7326793165030694,0.12407577375159301,0.6774956574766126,-0.7183544360468682,4.162947032193092,-0.9918762712627281,-0.8881636986363406,-0.5471402807139373,-0.24550996508065628,0.5225941670073567,-0.7441901342873489,-0.6443190130842945,-0.4859846238705705,-0.19825251989769463,0.11479874746079398,0.01049316176775546,0.34616811084524846,-1.1616999875240865,-0.14390689010254595,0.9338243473014551,0.14112189573364575,0.20250789788473203,0.20598821121067604,-0.1192082020165083,-0.11548278228495489,-0.7011843969051765,-0.24067728037204647,0.06575297053423794,0.27802809826614877,-0.3912403550059121,0.4408279917883331,0.3662328344335684,0.164787685632314,-0.06557247216497608,-0.41254623731475537,0.8649215833549438,0.153594063382052,-0.4117365659513868,0.8850694088999738,0.9731572778660564,0.05514520138800287,0.07873297984162217,-0.2370574284962293,-0.33002628374745563,-0.20129427397979097,-0.279256969656645,0.1560694319518953,-0.24474114696607838,0.11364759528710135,-0.11095488872592263,2.1887232943374655,-0.29544453648530017,-0.32810278670035853,1.0204991860858021,0.06419713877095137,-0.6722561491440141,-0.48412286963799,1.1077855441392723,-0.726532516585892,-0.1614964079488791,-1.3760573779704532,0.3913569054949737,0.649994634534248,-0.25781902950108865,-0.08242125495563662,0.8090521693378134,0.018812429849998355,-0.23624282649072545,-0.3433230663528412,-0.4353532160800968,0.14281670001809,-0.23578581762451106,-0.31130887664227613,-0.39372723824735123,0.3179913279233584,0.38478678710123493,-1.2694184379083069,-1.2439901233816606,0.600176880717078,-0.39466833920755673,-0.42993076530409774,-0.7737772247825839,-0.7374475350584695,0.9789570656305824,0.24653941565896503,0.34574268278940157,1.0200562496145948,-0.19755555635791977,-0.11480302503974628,-0.3514232674270011,-0.3472992144149751,-0.7893410888011345,-0.01619050783409755,0.5282553757703237,0.8619441368672961,0.3486553160002399,-0.26127985246150814,-0.9846637979153819,-0.15433864483037935,-0.3491826242380275,1.1004036865963849,0.8896773753547036,-0.06997542770766388,-1.1966362936417998,-0.16097521030506864,-0.17152344769848646,-0.5386388803333313,-3.193818882314772,-0.6573110072905495,0.028942918534168353,-2.0583820676462503,-0.653751131663975,0.2787321591138362,1.1318372682902536,0.7363585623799374,0.5054206288811144,-0.6524532434053807,-0.3052246608400116,1.2685885202661698,0.7056092508553676,-0.2762769852525995,1.4629688194840345,-0.7748480124040574,-0.5699169034806627,-0.39727363746899796,-0.4158514345935175,-0.06627941920636007,0.6743301783153359,-0.6249311286331715,0.23232772239134003,-1.015620181562274,0.6191413265117041,-0.4610360195770998,0.3109002094049699,-0.4154706485218786,0.4714240694752231,-0.15492981867585118,1.6573560773785418,-0.5974823659242704,-0.4624015563411773,1.185358590943681,-0.3254030778992972,1.0073230500253458,-1.5098334556422575,-0.6305028979414832,-0.9509326083009145,0.17046755609316172],\"yaxis\":\"y\",\"type\":\"scatter\"}],                        {\"template\":{\"data\":{\"bar\":[{\"error_x\":{\"color\":\"#2a3f5f\"},\"error_y\":{\"color\":\"#2a3f5f\"},\"marker\":{\"line\":{\"color\":\"#E5ECF6\",\"width\":0.5},\"pattern\":{\"fillmode\":\"overlay\",\"size\":10,\"solidity\":0.2}},\"type\":\"bar\"}],\"barpolar\":[{\"marker\":{\"line\":{\"color\":\"#E5ECF6\",\"width\":0.5},\"pattern\":{\"fillmode\":\"overlay\",\"size\":10,\"solidity\":0.2}},\"type\":\"barpolar\"}],\"carpet\":[{\"aaxis\":{\"endlinecolor\":\"#2a3f5f\",\"gridcolor\":\"white\",\"linecolor\":\"white\",\"minorgridcolor\":\"white\",\"startlinecolor\":\"#2a3f5f\"},\"baxis\":{\"endlinecolor\":\"#2a3f5f\",\"gridcolor\":\"white\",\"linecolor\":\"white\",\"minorgridcolor\":\"white\",\"startlinecolor\":\"#2a3f5f\"},\"type\":\"carpet\"}],\"choropleth\":[{\"colorbar\":{\"outlinewidth\":0,\"ticks\":\"\"},\"type\":\"choropleth\"}],\"contour\":[{\"colorbar\":{\"outlinewidth\":0,\"ticks\":\"\"},\"colorscale\":[[0.0,\"#0d0887\"],[0.1111111111111111,\"#46039f\"],[0.2222222222222222,\"#7201a8\"],[0.3333333333333333,\"#9c179e\"],[0.4444444444444444,\"#bd3786\"],[0.5555555555555556,\"#d8576b\"],[0.6666666666666666,\"#ed7953\"],[0.7777777777777778,\"#fb9f3a\"],[0.8888888888888888,\"#fdca26\"],[1.0,\"#f0f921\"]],\"type\":\"contour\"}],\"contourcarpet\":[{\"colorbar\":{\"outlinewidth\":0,\"ticks\":\"\"},\"type\":\"contourcarpet\"}],\"heatmap\":[{\"colorbar\":{\"outlinewidth\":0,\"ticks\":\"\"},\"colorscale\":[[0.0,\"#0d0887\"],[0.1111111111111111,\"#46039f\"],[0.2222222222222222,\"#7201a8\"],[0.3333333333333333,\"#9c179e\"],[0.4444444444444444,\"#bd3786\"],[0.5555555555555556,\"#d8576b\"],[0.6666666666666666,\"#ed7953\"],[0.7777777777777778,\"#fb9f3a\"],[0.8888888888888888,\"#fdca26\"],[1.0,\"#f0f921\"]],\"type\":\"heatmap\"}],\"heatmapgl\":[{\"colorbar\":{\"outlinewidth\":0,\"ticks\":\"\"},\"colorscale\":[[0.0,\"#0d0887\"],[0.1111111111111111,\"#46039f\"],[0.2222222222222222,\"#7201a8\"],[0.3333333333333333,\"#9c179e\"],[0.4444444444444444,\"#bd3786\"],[0.5555555555555556,\"#d8576b\"],[0.6666666666666666,\"#ed7953\"],[0.7777777777777778,\"#fb9f3a\"],[0.8888888888888888,\"#fdca26\"],[1.0,\"#f0f921\"]],\"type\":\"heatmapgl\"}],\"histogram\":[{\"marker\":{\"pattern\":{\"fillmode\":\"overlay\",\"size\":10,\"solidity\":0.2}},\"type\":\"histogram\"}],\"histogram2d\":[{\"colorbar\":{\"outlinewidth\":0,\"ticks\":\"\"},\"colorscale\":[[0.0,\"#0d0887\"],[0.1111111111111111,\"#46039f\"],[0.2222222222222222,\"#7201a8\"],[0.3333333333333333,\"#9c179e\"],[0.4444444444444444,\"#bd3786\"],[0.5555555555555556,\"#d8576b\"],[0.6666666666666666,\"#ed7953\"],[0.7777777777777778,\"#fb9f3a\"],[0.8888888888888888,\"#fdca26\"],[1.0,\"#f0f921\"]],\"type\":\"histogram2d\"}],\"histogram2dcontour\":[{\"colorbar\":{\"outlinewidth\":0,\"ticks\":\"\"},\"colorscale\":[[0.0,\"#0d0887\"],[0.1111111111111111,\"#46039f\"],[0.2222222222222222,\"#7201a8\"],[0.3333333333333333,\"#9c179e\"],[0.4444444444444444,\"#bd3786\"],[0.5555555555555556,\"#d8576b\"],[0.6666666666666666,\"#ed7953\"],[0.7777777777777778,\"#fb9f3a\"],[0.8888888888888888,\"#fdca26\"],[1.0,\"#f0f921\"]],\"type\":\"histogram2dcontour\"}],\"mesh3d\":[{\"colorbar\":{\"outlinewidth\":0,\"ticks\":\"\"},\"type\":\"mesh3d\"}],\"parcoords\":[{\"line\":{\"colorbar\":{\"outlinewidth\":0,\"ticks\":\"\"}},\"type\":\"parcoords\"}],\"pie\":[{\"automargin\":true,\"type\":\"pie\"}],\"scatter\":[{\"marker\":{\"colorbar\":{\"outlinewidth\":0,\"ticks\":\"\"}},\"type\":\"scatter\"}],\"scatter3d\":[{\"line\":{\"colorbar\":{\"outlinewidth\":0,\"ticks\":\"\"}},\"marker\":{\"colorbar\":{\"outlinewidth\":0,\"ticks\":\"\"}},\"type\":\"scatter3d\"}],\"scattercarpet\":[{\"marker\":{\"colorbar\":{\"outlinewidth\":0,\"ticks\":\"\"}},\"type\":\"scattercarpet\"}],\"scattergeo\":[{\"marker\":{\"colorbar\":{\"outlinewidth\":0,\"ticks\":\"\"}},\"type\":\"scattergeo\"}],\"scattergl\":[{\"marker\":{\"colorbar\":{\"outlinewidth\":0,\"ticks\":\"\"}},\"type\":\"scattergl\"}],\"scattermapbox\":[{\"marker\":{\"colorbar\":{\"outlinewidth\":0,\"ticks\":\"\"}},\"type\":\"scattermapbox\"}],\"scatterpolar\":[{\"marker\":{\"colorbar\":{\"outlinewidth\":0,\"ticks\":\"\"}},\"type\":\"scatterpolar\"}],\"scatterpolargl\":[{\"marker\":{\"colorbar\":{\"outlinewidth\":0,\"ticks\":\"\"}},\"type\":\"scatterpolargl\"}],\"scatterternary\":[{\"marker\":{\"colorbar\":{\"outlinewidth\":0,\"ticks\":\"\"}},\"type\":\"scatterternary\"}],\"surface\":[{\"colorbar\":{\"outlinewidth\":0,\"ticks\":\"\"},\"colorscale\":[[0.0,\"#0d0887\"],[0.1111111111111111,\"#46039f\"],[0.2222222222222222,\"#7201a8\"],[0.3333333333333333,\"#9c179e\"],[0.4444444444444444,\"#bd3786\"],[0.5555555555555556,\"#d8576b\"],[0.6666666666666666,\"#ed7953\"],[0.7777777777777778,\"#fb9f3a\"],[0.8888888888888888,\"#fdca26\"],[1.0,\"#f0f921\"]],\"type\":\"surface\"}],\"table\":[{\"cells\":{\"fill\":{\"color\":\"#EBF0F8\"},\"line\":{\"color\":\"white\"}},\"header\":{\"fill\":{\"color\":\"#C8D4E3\"},\"line\":{\"color\":\"white\"}},\"type\":\"table\"}]},\"layout\":{\"annotationdefaults\":{\"arrowcolor\":\"#2a3f5f\",\"arrowhead\":0,\"arrowwidth\":1},\"autotypenumbers\":\"strict\",\"coloraxis\":{\"colorbar\":{\"outlinewidth\":0,\"ticks\":\"\"}},\"colorscale\":{\"diverging\":[[0,\"#8e0152\"],[0.1,\"#c51b7d\"],[0.2,\"#de77ae\"],[0.3,\"#f1b6da\"],[0.4,\"#fde0ef\"],[0.5,\"#f7f7f7\"],[0.6,\"#e6f5d0\"],[0.7,\"#b8e186\"],[0.8,\"#7fbc41\"],[0.9,\"#4d9221\"],[1,\"#276419\"]],\"sequential\":[[0.0,\"#0d0887\"],[0.1111111111111111,\"#46039f\"],[0.2222222222222222,\"#7201a8\"],[0.3333333333333333,\"#9c179e\"],[0.4444444444444444,\"#bd3786\"],[0.5555555555555556,\"#d8576b\"],[0.6666666666666666,\"#ed7953\"],[0.7777777777777778,\"#fb9f3a\"],[0.8888888888888888,\"#fdca26\"],[1.0,\"#f0f921\"]],\"sequentialminus\":[[0.0,\"#0d0887\"],[0.1111111111111111,\"#46039f\"],[0.2222222222222222,\"#7201a8\"],[0.3333333333333333,\"#9c179e\"],[0.4444444444444444,\"#bd3786\"],[0.5555555555555556,\"#d8576b\"],[0.6666666666666666,\"#ed7953\"],[0.7777777777777778,\"#fb9f3a\"],[0.8888888888888888,\"#fdca26\"],[1.0,\"#f0f921\"]]},\"colorway\":[\"#636efa\",\"#EF553B\",\"#00cc96\",\"#ab63fa\",\"#FFA15A\",\"#19d3f3\",\"#FF6692\",\"#B6E880\",\"#FF97FF\",\"#FECB52\"],\"font\":{\"color\":\"#2a3f5f\"},\"geo\":{\"bgcolor\":\"white\",\"lakecolor\":\"white\",\"landcolor\":\"#E5ECF6\",\"showlakes\":true,\"showland\":true,\"subunitcolor\":\"white\"},\"hoverlabel\":{\"align\":\"left\"},\"hovermode\":\"closest\",\"mapbox\":{\"style\":\"light\"},\"paper_bgcolor\":\"white\",\"plot_bgcolor\":\"#E5ECF6\",\"polar\":{\"angularaxis\":{\"gridcolor\":\"white\",\"linecolor\":\"white\",\"ticks\":\"\"},\"bgcolor\":\"#E5ECF6\",\"radialaxis\":{\"gridcolor\":\"white\",\"linecolor\":\"white\",\"ticks\":\"\"}},\"scene\":{\"xaxis\":{\"backgroundcolor\":\"#E5ECF6\",\"gridcolor\":\"white\",\"gridwidth\":2,\"linecolor\":\"white\",\"showbackground\":true,\"ticks\":\"\",\"zerolinecolor\":\"white\"},\"yaxis\":{\"backgroundcolor\":\"#E5ECF6\",\"gridcolor\":\"white\",\"gridwidth\":2,\"linecolor\":\"white\",\"showbackground\":true,\"ticks\":\"\",\"zerolinecolor\":\"white\"},\"zaxis\":{\"backgroundcolor\":\"#E5ECF6\",\"gridcolor\":\"white\",\"gridwidth\":2,\"linecolor\":\"white\",\"showbackground\":true,\"ticks\":\"\",\"zerolinecolor\":\"white\"}},\"shapedefaults\":{\"line\":{\"color\":\"#2a3f5f\"}},\"ternary\":{\"aaxis\":{\"gridcolor\":\"white\",\"linecolor\":\"white\",\"ticks\":\"\"},\"baxis\":{\"gridcolor\":\"white\",\"linecolor\":\"white\",\"ticks\":\"\"},\"bgcolor\":\"#E5ECF6\",\"caxis\":{\"gridcolor\":\"white\",\"linecolor\":\"white\",\"ticks\":\"\"}},\"title\":{\"x\":0.05},\"xaxis\":{\"automargin\":true,\"gridcolor\":\"white\",\"linecolor\":\"white\",\"ticks\":\"\",\"title\":{\"standoff\":15},\"zerolinecolor\":\"white\",\"zerolinewidth\":2},\"yaxis\":{\"automargin\":true,\"gridcolor\":\"white\",\"linecolor\":\"white\",\"ticks\":\"\",\"title\":{\"standoff\":15},\"zerolinecolor\":\"white\",\"zerolinewidth\":2}}},\"xaxis\":{\"anchor\":\"y\",\"domain\":[0.0,1.0],\"title\":{\"text\":\"x\"}},\"yaxis\":{\"anchor\":\"x\",\"domain\":[0.0,1.0],\"title\":{\"text\":\"y\"}},\"coloraxis\":{\"colorbar\":{\"title\":{\"text\":\"color\"}},\"colorscale\":[[0.0,\"#0d0887\"],[0.1111111111111111,\"#46039f\"],[0.2222222222222222,\"#7201a8\"],[0.3333333333333333,\"#9c179e\"],[0.4444444444444444,\"#bd3786\"],[0.5555555555555556,\"#d8576b\"],[0.6666666666666666,\"#ed7953\"],[0.7777777777777778,\"#fb9f3a\"],[0.8888888888888888,\"#fdca26\"],[1.0,\"#f0f921\"]]},\"legend\":{\"tracegroupgap\":0},\"margin\":{\"t\":60}},                        {\"responsive\": true}                    ).then(function(){\n",
              "                            \n",
              "var gd = document.getElementById('0af20753-ec84-4da9-9397-7f9d45c46e58');\n",
              "var x = new MutationObserver(function (mutations, observer) {{\n",
              "        var display = window.getComputedStyle(gd).display;\n",
              "        if (!display || display === 'none') {{\n",
              "            console.log([gd, 'removed!']);\n",
              "            Plotly.purge(gd);\n",
              "            observer.disconnect();\n",
              "        }}\n",
              "}});\n",
              "\n",
              "// Listen for the removal of the full notebook cells\n",
              "var notebookContainer = gd.closest('#notebook-container');\n",
              "if (notebookContainer) {{\n",
              "    x.observe(notebookContainer, {childList: true});\n",
              "}}\n",
              "\n",
              "// Listen for the clearing of the current output cell\n",
              "var outputEl = gd.closest('.output');\n",
              "if (outputEl) {{\n",
              "    x.observe(outputEl, {childList: true});\n",
              "}}\n",
              "\n",
              "                        })                };                            </script>        </div>\n",
              "</body>\n",
              "</html>"
            ]
          },
          "metadata": {}
        }
      ]
    },
    {
      "cell_type": "markdown",
      "source": [
        "### **Fase1**"
      ],
      "metadata": {
        "id": "xmvPEorn333I"
      }
    },
    {
      "cell_type": "markdown",
      "source": [
        "# **SVM**{Unbalanced} => *0.475*, liner, 1, 1 | 0.475, sigmoid, 1, 1"
      ],
      "metadata": {
        "id": "9yYjOsLxurKB"
      }
    },
    {
      "cell_type": "code",
      "source": [
        "#PREPARAR OS DADOS ==> Importar e tratar os dados\n",
        "import pandas as pd\n",
        "\n",
        "# Importando o Arquivo\n",
        "dados = pd.read_csv(\"dataMODIFICADOv10F.csv\", sep=\",\")\n",
        "\n",
        "#Transformando os nulos para 0\n",
        "dados = dados.fillna(1, inplace= False) \n",
        "\n",
        "#Separando as variaveis de interesse | sex\tage\tLYVE1\tREG1B\tTFF1\tcreatinine\tplasma_CA19_9\tREG1A\t\n",
        "X_dados = dados.iloc[:,5:13].values\n",
        "X_dados \n",
        "\n",
        "#Separando a classe alvo | stage2\n",
        "y_dados = dados.iloc[:,13].values\n",
        "y_dados\n",
        "\n",
        "# Tratando as colunas que São rotulos | sex\n",
        "from sklearn.preprocessing import LabelEncoder\n",
        "\n",
        "label_encoder_sex = LabelEncoder()\n",
        "X_dados[:,0] = label_encoder_sex.fit_transform(X_dados[:,0])\n",
        "X_dados\n",
        "\n",
        "#Onehot\n",
        "from sklearn.preprocessing import OneHotEncoder\n",
        "from sklearn.compose import ColumnTransformer\n",
        "\n",
        "onehotencorder = ColumnTransformer(transformers=[(\"OneHot\", OneHotEncoder(), [0])],remainder='passthrough')\n",
        "X_dados = onehotencorder.fit_transform(X_dados)\n",
        "X_dados\n",
        "\n",
        "#ESCALONAMENTO DE ATRIBUTOS\n",
        "from sklearn.preprocessing import StandardScaler\n",
        "scaler_dados = StandardScaler()\n",
        "X_dados = scaler_dados.fit_transform(X_dados)\n",
        "\n",
        "\n",
        "#Separação dos dados SEM o balanceamento\n",
        "from sklearn.model_selection import train_test_split\n",
        "\n",
        "X_dados_train , X_dados_test, y_dados_train, y_dados_test = train_test_split(X_dados, y_dados, test_size=0.2, random_state=0)\n",
        "X_dados_train.shape, X_dados_test.shape\n"
      ],
      "metadata": {
        "colab": {
          "base_uri": "https://localhost:8080/"
        },
        "id": "bNOJjTeVuuQ9",
        "outputId": "3cb90887-4409-4f60-8bfd-ec913b5f1dac"
      },
      "execution_count": 99,
      "outputs": [
        {
          "output_type": "execute_result",
          "data": {
            "text/plain": [
              "((159, 9), (40, 9))"
            ]
          },
          "metadata": {},
          "execution_count": 99
        }
      ]
    },
    {
      "cell_type": "code",
      "source": [
        "from sklearn.svm import SVC\n"
      ],
      "metadata": {
        "id": "X9WUWevXu1Ji"
      },
      "execution_count": 100,
      "outputs": []
    },
    {
      "cell_type": "code",
      "source": [
        "svm_dados = SVC(kernel='linear', random_state=1, C = 1.0) # 2 -> 4\n",
        "svm_dados.fit(X_dados_train, y_dados_train)"
      ],
      "metadata": {
        "colab": {
          "base_uri": "https://localhost:8080/"
        },
        "id": "4KgOs8z5xRCy",
        "outputId": "c52dde9c-bb60-42f9-c11c-6da29bbe4da2"
      },
      "execution_count": 135,
      "outputs": [
        {
          "output_type": "execute_result",
          "data": {
            "text/plain": [
              "SVC(kernel='linear', random_state=1)"
            ]
          },
          "metadata": {},
          "execution_count": 135
        }
      ]
    },
    {
      "cell_type": "code",
      "source": [
        "previsoes = svm_dados.predict(X_dados_test)\n",
        "previsoes"
      ],
      "metadata": {
        "colab": {
          "base_uri": "https://localhost:8080/"
        },
        "id": "oQI1ExZNx1lg",
        "outputId": "da157f3b-ca4a-47b5-b073-4c835e0dad3c"
      },
      "execution_count": 136,
      "outputs": [
        {
          "output_type": "execute_result",
          "data": {
            "text/plain": [
              "array(['II', 'II', 'II', 'II', 'II', 'II', 'II', 'III', 'II', 'II', 'II',\n",
              "       'II', 'III', 'III', 'II', 'II', 'II', 'III', 'III', 'II', 'II',\n",
              "       'II', 'II', 'III', 'II', 'II', 'III', 'II', 'II', 'III', 'II',\n",
              "       'II', 'II', 'II', 'III', 'II', 'III', 'III', 'III', 'II'],\n",
              "      dtype=object)"
            ]
          },
          "metadata": {},
          "execution_count": 136
        }
      ]
    },
    {
      "cell_type": "code",
      "source": [
        "y_dados_test"
      ],
      "metadata": {
        "colab": {
          "base_uri": "https://localhost:8080/"
        },
        "id": "g3v9ZM2cx75v",
        "outputId": "5e3157db-de24-494d-f26e-762a049b8b50"
      },
      "execution_count": 137,
      "outputs": [
        {
          "output_type": "execute_result",
          "data": {
            "text/plain": [
              "array(['II', 'III', 'III', 'II', 'III', 'IV', 'I', 'III', 'I', 'III',\n",
              "       'II', 'III', 'III', 'III', 'II', 'I', 'II', 'III', 'II', 'II',\n",
              "       'III', 'III', 'II', 'III', 'II', 'III', 'IV', 'IV', 'II', 'II',\n",
              "       'II', 'II', 'II', 'III', 'II', 'IV', 'III', 'I', 'III', 'IV'],\n",
              "      dtype=object)"
            ]
          },
          "metadata": {},
          "execution_count": 137
        }
      ]
    },
    {
      "cell_type": "code",
      "source": [
        "from sklearn.metrics import accuracy_score, classification_report \n",
        "#0.475, liner, 1, 1 | 0.425, poly, 1, 1 | #0.475, sigmoid, 1, 1 | 0.425, rbf, 1, 1\n",
        "accuracy_score(y_dados_test, previsoes)"
      ],
      "metadata": {
        "colab": {
          "base_uri": "https://localhost:8080/"
        },
        "id": "zYhip2iXyXfx",
        "outputId": "614403f7-5312-40d0-f8ab-c0d01d843655"
      },
      "execution_count": 138,
      "outputs": [
        {
          "output_type": "execute_result",
          "data": {
            "text/plain": [
              "0.475"
            ]
          },
          "metadata": {},
          "execution_count": 138
        }
      ]
    },
    {
      "cell_type": "code",
      "source": [
        "from yellowbrick.classifier import ConfusionMatrix\n",
        "cm = ConfusionMatrix(svm_dados)\n",
        "cm.fit(X_dados_train, y_dados_train)\n",
        "cm.score(X_dados_test, y_dados_test)"
      ],
      "metadata": {
        "colab": {
          "base_uri": "https://localhost:8080/",
          "height": 365
        },
        "id": "9UBNKPkfyphA",
        "outputId": "1f571735-de0f-4d89-e448-c8873f355fd2"
      },
      "execution_count": 139,
      "outputs": [
        {
          "output_type": "execute_result",
          "data": {
            "text/plain": [
              "0.475"
            ]
          },
          "metadata": {},
          "execution_count": 139
        },
        {
          "output_type": "display_data",
          "data": {
            "text/plain": [
              "<Figure size 576x396 with 1 Axes>"
            ],
            "image/png": "[encoded data removed]"
          },
          "metadata": {}
        }
      ]
    },
    {
      "cell_type": "code",
      "source": [
        "print(classification_report(y_dados_test, previsoes))"
      ],
      "metadata": {
        "colab": {
          "base_uri": "https://localhost:8080/"
        },
        "id": "-eHUclVryrvL",
        "outputId": "a8ecefd8-2325-4839-ab73-501685ebf166"
      },
      "execution_count": 1827,
      "outputs": [
        {
          "output_type": "stream",
          "name": "stdout",
          "text": [
            "              precision    recall  f1-score   support\n",
            "\n",
            "           I       0.00      0.00      0.00         4\n",
            "          II       0.43      0.80      0.56        15\n",
            "         III       0.42      0.31      0.36        16\n",
            "          IV       0.00      0.00      0.00         5\n",
            "\n",
            "    accuracy                           0.42        40\n",
            "   macro avg       0.21      0.28      0.23        40\n",
            "weighted avg       0.33      0.42      0.35        40\n",
            "\n"
          ]
        },
        {
          "output_type": "stream",
          "name": "stderr",
          "text": [
            "/usr/local/lib/python3.7/dist-packages/sklearn/metrics/_classification.py:1318: UndefinedMetricWarning:\n",
            "\n",
            "Precision and F-score are ill-defined and being set to 0.0 in labels with no predicted samples. Use `zero_division` parameter to control this behavior.\n",
            "\n",
            "/usr/local/lib/python3.7/dist-packages/sklearn/metrics/_classification.py:1318: UndefinedMetricWarning:\n",
            "\n",
            "Precision and F-score are ill-defined and being set to 0.0 in labels with no predicted samples. Use `zero_division` parameter to control this behavior.\n",
            "\n",
            "/usr/local/lib/python3.7/dist-packages/sklearn/metrics/_classification.py:1318: UndefinedMetricWarning:\n",
            "\n",
            "Precision and F-score are ill-defined and being set to 0.0 in labels with no predicted samples. Use `zero_division` parameter to control this behavior.\n",
            "\n"
          ]
        }
      ]
    },
    {
      "cell_type": "markdown",
      "source": [
        "# **SVM**{Balanced} => 0.5217, linear, 0, 10 |"
      ],
      "metadata": {
        "id": "eGoD2mIZ2fLc"
      }
    },
    {
      "cell_type": "code",
      "source": [
        "#PREPARAR OS DADOS ==> Importar e tratar os dados\n",
        "import pandas as pd\n",
        "\n",
        "# Importando o Arquivo\n",
        "dados = pd.read_csv(\"dataMODIFICADOv10F.csv\", sep=\",\")\n",
        "\n",
        "#Transformando os nulos para 0\n",
        "dados = dados.fillna(1, inplace= False) \n",
        "\n",
        "#Separando as variaveis de interesse | sex\tage\tLYVE1\tREG1B\tTFF1\tcreatinine\tplasma_CA19_9\tREG1A\t\n",
        "X_dados = dados.iloc[:,5:13].values\n",
        "X_dados \n",
        "\n",
        "#Separando a classe alvo | stage2\n",
        "y_dados = dados.iloc[:,13].values\n",
        "y_dados\n",
        "\n",
        "# Tratando as colunas que São rotulos | sex\n",
        "from sklearn.preprocessing import LabelEncoder\n",
        "\n",
        "label_encoder_sex = LabelEncoder()\n",
        "X_dados[:,0] = label_encoder_sex.fit_transform(X_dados[:,0])\n",
        "X_dados\n",
        "\n",
        "# Sobreamostragem com SMOTE\n",
        "\n",
        "from imblearn.over_sampling import SMOTE\n",
        "import numpy as np\n",
        "\n",
        "smote = SMOTE(sampling_strategy='not majority')\n",
        "X_over, y_over = smote.fit_resample(X_dados, y_dados)\n",
        "\n",
        "#y_over.shape, X_over.shape\n",
        "\n",
        "np.unique(y_dados, return_counts = True), np.unique(y_over, return_counts = True)\n",
        "\n",
        "import seaborn as sns\n",
        "sns.countplot(x = y_over);\n",
        "\n",
        "from sklearn.preprocessing import OneHotEncoder\n",
        "from sklearn.compose import ColumnTransformer\n",
        "onehotencorder = ColumnTransformer(transformers=[(\"OneHot\", OneHotEncoder(), [0])],remainder='passthrough')\n",
        "X_dados = onehotencorder.fit_transform(X_over).toarray()\n",
        "\n",
        "#X_dados, X_dados.shape\n",
        "\n",
        "#ESCALONAMENTO DE ATRIBUTOS\n",
        "from sklearn.preprocessing import StandardScaler\n",
        "scaler_dados = StandardScaler()\n",
        "X_dados = scaler_dados.fit_transform(X_dados)\n",
        "X_dados\n",
        "\n",
        "#Separação dos dados BALANCEADOS\n",
        "from sklearn.model_selection import train_test_split\n",
        "\n",
        "X_dados_train_over, X_dados_test_over, y_dados_train_over, y_dados_test_over = train_test_split(X_dados, y_over, test_size=0.2, random_state=0)\n",
        "X_dados_train_over.shape, X_dados_test_over.shape\n",
        "np.unique(y_dados, return_counts = True), np.unique(y_over, return_counts = True)\n"
      ],
      "metadata": {
        "colab": {
          "base_uri": "https://localhost:8080/",
          "height": 382
        },
        "id": "mt8qMixm2pkD",
        "outputId": "1bd183ce-0748-4531-9778-3fa6b2abb3b8"
      },
      "execution_count": 87,
      "outputs": [
        {
          "output_type": "execute_result",
          "data": {
            "text/plain": [
              "((array(['I', 'II', 'III', 'IV'], dtype=object), array([16, 86, 76, 21])),\n",
              " (array(['I', 'II', 'III', 'IV'], dtype=object), array([86, 86, 86, 86])))"
            ]
          },
          "metadata": {},
          "execution_count": 87
        },
        {
          "output_type": "display_data",
          "data": {
            "text/plain": [
              "<Figure size 576x396 with 1 Axes>"
            ],
            "image/png": "[encoded data removed]"
          },
          "metadata": {}
        }
      ]
    },
    {
      "cell_type": "code",
      "source": [
        "from sklearn.svm import SVC"
      ],
      "metadata": {
        "id": "4KssgckW2rDb"
      },
      "execution_count": 88,
      "outputs": []
    },
    {
      "cell_type": "code",
      "source": [
        "svm_dados = SVC(kernel='linear', random_state=0, C = 10.0) # 2 -> 4\n",
        "svm_dados.fit(X_dados_train_over, y_dados_train_over)"
      ],
      "metadata": {
        "colab": {
          "base_uri": "https://localhost:8080/"
        },
        "id": "7BIssZnS2xeH",
        "outputId": "619af05b-4b3c-4d77-cc98-3a619217d9b3"
      },
      "execution_count": 89,
      "outputs": [
        {
          "output_type": "execute_result",
          "data": {
            "text/plain": [
              "SVC(C=10.0, kernel='linear', random_state=0)"
            ]
          },
          "metadata": {},
          "execution_count": 89
        }
      ]
    },
    {
      "cell_type": "code",
      "source": [
        "previsoes = svm_dados.predict(X_dados_test_over)\n",
        "previsoes"
      ],
      "metadata": {
        "colab": {
          "base_uri": "https://localhost:8080/"
        },
        "id": "JZVS5Mb520X0",
        "outputId": "345b8f72-4fa4-424d-8c54-0e6d3be25234"
      },
      "execution_count": 90,
      "outputs": [
        {
          "output_type": "execute_result",
          "data": {
            "text/plain": [
              "array(['I', 'I', 'II', 'I', 'II', 'III', 'II', 'I', 'I', 'I', 'III', 'II',\n",
              "       'III', 'IV', 'I', 'III', 'I', 'I', 'I', 'III', 'IV', 'III', 'I',\n",
              "       'III', 'II', 'I', 'II', 'II', 'III', 'III', 'I', 'III', 'III',\n",
              "       'III', 'III', 'III', 'I', 'IV', 'II', 'II', 'I', 'III', 'I', 'IV',\n",
              "       'IV', 'II', 'I', 'III', 'III', 'I', 'II', 'II', 'II', 'III', 'III',\n",
              "       'I', 'III', 'IV', 'I', 'I', 'I', 'II', 'II', 'I', 'I', 'IV', 'II',\n",
              "       'III', 'III'], dtype=object)"
            ]
          },
          "metadata": {},
          "execution_count": 90
        }
      ]
    },
    {
      "cell_type": "code",
      "source": [
        "y_dados_test_over"
      ],
      "metadata": {
        "colab": {
          "base_uri": "https://localhost:8080/"
        },
        "id": "BVeDKDbg26hm",
        "outputId": "67a0c4e8-76d2-4c54-c054-ba3ad1e22cc9"
      },
      "execution_count": 91,
      "outputs": [
        {
          "output_type": "execute_result",
          "data": {
            "text/plain": [
              "array(['III', 'I', 'II', 'I', 'II', 'IV', 'III', 'I', 'I', 'II', 'II',\n",
              "       'I', 'III', 'IV', 'I', 'II', 'II', 'I', 'II', 'I', 'IV', 'II', 'I',\n",
              "       'III', 'I', 'I', 'III', 'II', 'II', 'I', 'I', 'IV', 'II', 'II',\n",
              "       'III', 'IV', 'IV', 'III', 'II', 'II', 'III', 'II', 'II', 'IV',\n",
              "       'IV', 'I', 'IV', 'IV', 'III', 'I', 'II', 'II', 'III', 'III', 'III',\n",
              "       'I', 'II', 'IV', 'I', 'I', 'I', 'IV', 'II', 'IV', 'I', 'IV', 'II',\n",
              "       'I', 'IV'], dtype=object)"
            ]
          },
          "metadata": {},
          "execution_count": 91
        }
      ]
    },
    {
      "cell_type": "code",
      "source": [
        "from sklearn.metrics import accuracy_score, classification_report \n",
        "#0.475, liner, 1, 1 | 0.425, poly, 1, 1 | #0.475, sigmoid, 1, 1 | 0.425, rbf, 1, 1\n",
        "#0.434, rbf 1, 2 |0.521 linear, 0, 10\n",
        "\n",
        "accuracy_score(y_dados_test_over, previsoes)"
      ],
      "metadata": {
        "colab": {
          "base_uri": "https://localhost:8080/"
        },
        "id": "IAJaF1_S28cB",
        "outputId": "0412d141-2dcd-4bf5-e342-88ffa1e237e9"
      },
      "execution_count": 95,
      "outputs": [
        {
          "output_type": "execute_result",
          "data": {
            "text/plain": [
              "0.5217391304347826"
            ]
          },
          "metadata": {},
          "execution_count": 95
        }
      ]
    },
    {
      "cell_type": "code",
      "source": [
        "from yellowbrick.classifier import ConfusionMatrix\n",
        "cm = ConfusionMatrix(svm_dados)\n",
        "cm.fit(X_dados_train_over, y_dados_train_over)\n",
        "cm.score(X_dados_test_over, y_dados_test_over)"
      ],
      "metadata": {
        "colab": {
          "base_uri": "https://localhost:8080/",
          "height": 365
        },
        "id": "g8FC5K-02_is",
        "outputId": "a78924cb-207f-40a7-b0fb-045d4533aa10"
      },
      "execution_count": 96,
      "outputs": [
        {
          "output_type": "execute_result",
          "data": {
            "text/plain": [
              "0.5217391304347826"
            ]
          },
          "metadata": {},
          "execution_count": 96
        },
        {
          "output_type": "display_data",
          "data": {
            "text/plain": [
              "<Figure size 576x396 with 1 Axes>"
            ],
            "image/png": "[encoded data removed]"
          },
          "metadata": {}
        }
      ]
    },
    {
      "cell_type": "code",
      "source": [
        "print(classification_report(y_dados_test_over, previsoes))"
      ],
      "metadata": {
        "colab": {
          "base_uri": "https://localhost:8080/"
        },
        "id": "XOQEdZ3h3Bpl",
        "outputId": "6cb9f278-a4f1-48f4-cc58-d27cf4d00383"
      },
      "execution_count": 98,
      "outputs": [
        {
          "output_type": "stream",
          "name": "stdout",
          "text": [
            "              precision    recall  f1-score   support\n",
            "\n",
            "           I       0.62      0.71      0.67        21\n",
            "          II       0.56      0.43      0.49        21\n",
            "         III       0.27      0.50      0.35        12\n",
            "          IV       0.86      0.40      0.55        15\n",
            "\n",
            "    accuracy                           0.52        69\n",
            "   macro avg       0.58      0.51      0.51        69\n",
            "weighted avg       0.60      0.52      0.53        69\n",
            "\n"
          ]
        }
      ]
    }
  ]
}